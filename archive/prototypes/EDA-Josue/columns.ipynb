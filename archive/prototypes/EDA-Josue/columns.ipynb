{
 "cells": [
  {
   "cell_type": "code",
   "execution_count": 1,
   "metadata": {},
   "outputs": [],
   "source": [
    "import pandas as pd\n",
    "\n",
    "#read the file\n",
    "df = pd.read_csv(r'C:\\Users\\xbox1\\OneDrive - Angelo State University\\Documents\\CS4306\\barrios-1\\iss-data\\csv\\test\\us_rs_weekly_consumbale_gas_summary_1.csv',\n",
    "                 usecols=[1, 2])\n",
    "\n",
    "df.to_csv(r'C:\\Users\\xbox1\\OneDrive - Angelo State University\\Documents\\CS4306\\barrios-1\\iss-data\\csv\\test\\us_rs_weekly_consumbale_gas_summary_2.csv',\n",
    "          index=False)\n",
    "\n",
    "#testing branches"
   ]
  }
 ],
 "metadata": {
  "kernelspec": {
   "display_name": "venv",
   "language": "python",
   "name": "python3"
  },
  "language_info": {
   "codemirror_mode": {
    "name": "ipython",
    "version": 3
   },
   "file_extension": ".py",
   "mimetype": "text/x-python",
   "name": "python",
   "nbconvert_exporter": "python",
   "pygments_lexer": "ipython3",
   "version": "3.11.3"
  }
 },
 "nbformat": 4,
 "nbformat_minor": 2
}
