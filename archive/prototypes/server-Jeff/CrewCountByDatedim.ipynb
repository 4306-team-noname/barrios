{
 "cells": [
  {
   "cell_type": "code",
   "execution_count": 1,
   "id": "ccbf3d0b-41e6-455a-9e5b-77dbe84e534f",
   "metadata": {},
   "outputs": [],
   "source": [
    "import pandas as pd"
   ]
  },
  {
   "cell_type": "code",
   "execution_count": 2,
   "id": "fbee94ed-0504-4906-818e-464467392154",
   "metadata": {},
   "outputs": [],
   "source": [
    "df = pd.read_csv('iss-data/csv/iss_flight_plan_crew_20220101-20251321.csv')"
   ]
  },
  {
   "cell_type": "code",
   "execution_count": 9,
   "id": "342ae512-2d60-48aa-a2e5-162351394f2e",
   "metadata": {},
   "outputs": [],
   "source": [
    "grouped_by_date = df.groupby(['datedim'])['crew_count'].sum()"
   ]
  },
  {
   "cell_type": "code",
   "execution_count": 11,
   "id": "04ddc4f1-92c9-45a5-93ce-252c4d0bfd72",
   "metadata": {},
   "outputs": [
    {
     "data": {
      "text/plain": [
       "datedim\n",
       "1/1/2022     7\n",
       "1/1/2023     7\n",
       "1/1/2024     7\n",
       "1/1/2025     7\n",
       "1/10/2022    7\n",
       "            ..\n",
       "9/8/2025     7\n",
       "9/9/2022     7\n",
       "9/9/2023     7\n",
       "9/9/2024     7\n",
       "9/9/2025     7\n",
       "Name: crew_count, Length: 1461, dtype: int64"
      ]
     },
     "execution_count": 11,
     "metadata": {},
     "output_type": "execute_result"
    }
   ],
   "source": [
    "grouped_by_date"
   ]
  },
  {
   "cell_type": "code",
   "execution_count": null,
   "id": "ddbf5087-6399-4409-a415-acba06cdd69f",
   "metadata": {},
   "outputs": [],
   "source": []
  }
 ],
 "metadata": {
  "kernelspec": {
   "display_name": "Python 3 (ipykernel)",
   "language": "python",
   "name": "python3"
  },
  "language_info": {
   "codemirror_mode": {
    "name": "ipython",
    "version": 3
   },
   "file_extension": ".py",
   "mimetype": "text/x-python",
   "name": "python",
   "nbconvert_exporter": "python",
   "pygments_lexer": "ipython3",
   "version": "3.11.6"
  }
 },
 "nbformat": 4,
 "nbformat_minor": 5
}
