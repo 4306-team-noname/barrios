{
 "cells": [
  {
   "cell_type": "code",
   "execution_count": 1,
   "id": "ee8530b3-690b-4477-88db-aa2fd1701598",
   "metadata": {},
   "outputs": [],
   "source": [
    "import pandas as pd"
   ]
  },
  {
   "cell_type": "code",
   "execution_count": 4,
   "id": "96e31c46-223d-4520-b94b-06692e81054f",
   "metadata": {},
   "outputs": [],
   "source": [
    "df = pd.read_csv('iss-data/csv/stored_items_only_inventory_mgmt_system_consumables.csv', index_col=False)"
   ]
  },
  {
   "cell_type": "code",
   "execution_count": 6,
   "id": "f8140f6a-076c-4fe2-9402-232b33cdf944",
   "metadata": {},
   "outputs": [],
   "source": [
    "big_df = pd.read_csv('iss-data/csv/inventory_mgmt_system_consumables_20220101-20230905.csv', index_col=False, names=df.columns, keep_default_na=False)"
   ]
  },
  {
   "cell_type": "code",
   "execution_count": 7,
   "id": "3f817f47-20cc-4927-b4be-fb177179bbf6",
   "metadata": {},
   "outputs": [
    {
     "data": {
      "text/html": [
       "<div>\n",
       "<style scoped>\n",
       "    .dataframe tbody tr th:only-of-type {\n",
       "        vertical-align: middle;\n",
       "    }\n",
       "\n",
       "    .dataframe tbody tr th {\n",
       "        vertical-align: top;\n",
       "    }\n",
       "\n",
       "    .dataframe thead th {\n",
       "        text-align: right;\n",
       "    }\n",
       "</style>\n",
       "<table border=\"1\" class=\"dataframe\">\n",
       "  <thead>\n",
       "    <tr style=\"text-align: right;\">\n",
       "      <th></th>\n",
       "      <th>datedim</th>\n",
       "      <th>ims_id</th>\n",
       "      <th>id_parent</th>\n",
       "      <th>id_path</th>\n",
       "      <th>tree_depth</th>\n",
       "      <th>tree</th>\n",
       "      <th>part_number</th>\n",
       "      <th>serial_number</th>\n",
       "      <th>location_name</th>\n",
       "      <th>original_ip_owner</th>\n",
       "      <th>...</th>\n",
       "      <th>status</th>\n",
       "      <th>is_container</th>\n",
       "      <th>is_moveable</th>\n",
       "      <th>system</th>\n",
       "      <th>subsystem</th>\n",
       "      <th>action_date</th>\n",
       "      <th>move_date</th>\n",
       "      <th>fill_status</th>\n",
       "      <th>category_id</th>\n",
       "      <th>category_name</th>\n",
       "    </tr>\n",
       "  </thead>\n",
       "  <tbody>\n",
       "    <tr>\n",
       "      <th>0</th>\n",
       "      <td>2022-01-01 10:01:08.690</td>\n",
       "      <td>364155</td>\n",
       "      <td>265</td>\n",
       "      <td>/0/101/265/364155/</td>\n",
       "      <td>3</td>\n",
       "      <td>Storage Location</td>\n",
       "      <td>11Ф615.8720А55-20</td>\n",
       "      <td>1180</td>\n",
       "      <td>ФГБ1ГА</td>\n",
       "      <td>Russian Space Agency</td>\n",
       "      <td>...</td>\n",
       "      <td>Stowed</td>\n",
       "      <td>1</td>\n",
       "      <td>1</td>\n",
       "      <td>SM Hygiene Sanitary Equipment</td>\n",
       "      <td>АсСУ</td>\n",
       "      <td>2020-10-10 19:22:04.180</td>\n",
       "      <td>2020-10-10 19:22:04.180</td>\n",
       "      <td>NULL</td>\n",
       "      <td>3</td>\n",
       "      <td>KTO</td>\n",
       "    </tr>\n",
       "    <tr>\n",
       "      <th>1</th>\n",
       "      <td>2022-01-01 10:01:08.690</td>\n",
       "      <td>364156</td>\n",
       "      <td>265</td>\n",
       "      <td>/0/101/265/364156/</td>\n",
       "      <td>3</td>\n",
       "      <td>Storage Location</td>\n",
       "      <td>11Ф615.8720А55-20</td>\n",
       "      <td>1181</td>\n",
       "      <td>ФГБ1ГА</td>\n",
       "      <td>Russian Space Agency</td>\n",
       "      <td>...</td>\n",
       "      <td>Stowed</td>\n",
       "      <td>1</td>\n",
       "      <td>1</td>\n",
       "      <td>SM Hygiene Sanitary Equipment</td>\n",
       "      <td>АсСУ</td>\n",
       "      <td>2020-10-10 19:22:04.300</td>\n",
       "      <td>2020-10-10 19:22:04.300</td>\n",
       "      <td>NULL</td>\n",
       "      <td>3</td>\n",
       "      <td>KTO</td>\n",
       "    </tr>\n",
       "    <tr>\n",
       "      <th>2</th>\n",
       "      <td>2022-01-01 10:01:08.690</td>\n",
       "      <td>364157</td>\n",
       "      <td>265</td>\n",
       "      <td>/0/101/265/364157/</td>\n",
       "      <td>3</td>\n",
       "      <td>Storage Location</td>\n",
       "      <td>11Ф615.8720А55-20</td>\n",
       "      <td>1182</td>\n",
       "      <td>ФГБ1ГА</td>\n",
       "      <td>Russian Space Agency</td>\n",
       "      <td>...</td>\n",
       "      <td>Stowed</td>\n",
       "      <td>1</td>\n",
       "      <td>1</td>\n",
       "      <td>SM Hygiene Sanitary Equipment</td>\n",
       "      <td>АсСУ</td>\n",
       "      <td>2020-10-10 19:22:04.263</td>\n",
       "      <td>2020-10-10 19:22:04.263</td>\n",
       "      <td>NULL</td>\n",
       "      <td>3</td>\n",
       "      <td>KTO</td>\n",
       "    </tr>\n",
       "    <tr>\n",
       "      <th>3</th>\n",
       "      <td>2022-01-01 10:01:08.690</td>\n",
       "      <td>364158</td>\n",
       "      <td>265</td>\n",
       "      <td>/0/101/265/364158/</td>\n",
       "      <td>3</td>\n",
       "      <td>Storage Location</td>\n",
       "      <td>11Ф615.8720А55-10</td>\n",
       "      <td>1182</td>\n",
       "      <td>ФГБ1ГА</td>\n",
       "      <td>Russian Space Agency</td>\n",
       "      <td>...</td>\n",
       "      <td>Stowed</td>\n",
       "      <td>1</td>\n",
       "      <td>1</td>\n",
       "      <td>SM Hygiene Sanitary Equipment</td>\n",
       "      <td>АсСУ</td>\n",
       "      <td>2020-10-10 19:22:04.250</td>\n",
       "      <td>2020-10-10 19:22:04.250</td>\n",
       "      <td>NULL</td>\n",
       "      <td>3</td>\n",
       "      <td>KTO</td>\n",
       "    </tr>\n",
       "    <tr>\n",
       "      <th>4</th>\n",
       "      <td>2022-01-01 10:01:08.690</td>\n",
       "      <td>364160</td>\n",
       "      <td>265</td>\n",
       "      <td>/0/101/265/364160/</td>\n",
       "      <td>3</td>\n",
       "      <td>Storage Location</td>\n",
       "      <td>11Ф615.8720А55-20</td>\n",
       "      <td>1184</td>\n",
       "      <td>ФГБ1ГА</td>\n",
       "      <td>Russian Space Agency</td>\n",
       "      <td>...</td>\n",
       "      <td>Stowed</td>\n",
       "      <td>1</td>\n",
       "      <td>1</td>\n",
       "      <td>SM Hygiene Sanitary Equipment</td>\n",
       "      <td>АсСУ</td>\n",
       "      <td>2020-10-10 19:22:04.290</td>\n",
       "      <td>2020-10-10 19:22:04.290</td>\n",
       "      <td>NULL</td>\n",
       "      <td>3</td>\n",
       "      <td>KTO</td>\n",
       "    </tr>\n",
       "  </tbody>\n",
       "</table>\n",
       "<p>5 rows × 41 columns</p>\n",
       "</div>"
      ],
      "text/plain": [
       "                   datedim  ims_id  id_parent             id_path  tree_depth  \\\n",
       "0  2022-01-01 10:01:08.690  364155        265  /0/101/265/364155/           3   \n",
       "1  2022-01-01 10:01:08.690  364156        265  /0/101/265/364156/           3   \n",
       "2  2022-01-01 10:01:08.690  364157        265  /0/101/265/364157/           3   \n",
       "3  2022-01-01 10:01:08.690  364158        265  /0/101/265/364158/           3   \n",
       "4  2022-01-01 10:01:08.690  364160        265  /0/101/265/364160/           3   \n",
       "\n",
       "               tree        part_number serial_number location_name  \\\n",
       "0  Storage Location  11Ф615.8720А55-20          1180        ФГБ1ГА   \n",
       "1  Storage Location  11Ф615.8720А55-20          1181        ФГБ1ГА   \n",
       "2  Storage Location  11Ф615.8720А55-20          1182        ФГБ1ГА   \n",
       "3  Storage Location  11Ф615.8720А55-10          1182        ФГБ1ГА   \n",
       "4  Storage Location  11Ф615.8720А55-20          1184        ФГБ1ГА   \n",
       "\n",
       "      original_ip_owner  ...  status is_container is_moveable  \\\n",
       "0  Russian Space Agency  ...  Stowed            1           1   \n",
       "1  Russian Space Agency  ...  Stowed            1           1   \n",
       "2  Russian Space Agency  ...  Stowed            1           1   \n",
       "3  Russian Space Agency  ...  Stowed            1           1   \n",
       "4  Russian Space Agency  ...  Stowed            1           1   \n",
       "\n",
       "                          system subsystem              action_date  \\\n",
       "0  SM Hygiene Sanitary Equipment      АсСУ  2020-10-10 19:22:04.180   \n",
       "1  SM Hygiene Sanitary Equipment      АсСУ  2020-10-10 19:22:04.300   \n",
       "2  SM Hygiene Sanitary Equipment      АсСУ  2020-10-10 19:22:04.263   \n",
       "3  SM Hygiene Sanitary Equipment      АсСУ  2020-10-10 19:22:04.250   \n",
       "4  SM Hygiene Sanitary Equipment      АсСУ  2020-10-10 19:22:04.290   \n",
       "\n",
       "                 move_date fill_status category_id category_name  \n",
       "0  2020-10-10 19:22:04.180        NULL           3           KTO  \n",
       "1  2020-10-10 19:22:04.300        NULL           3           KTO  \n",
       "2  2020-10-10 19:22:04.263        NULL           3           KTO  \n",
       "3  2020-10-10 19:22:04.250        NULL           3           KTO  \n",
       "4  2020-10-10 19:22:04.290        NULL           3           KTO  \n",
       "\n",
       "[5 rows x 41 columns]"
      ]
     },
     "execution_count": 7,
     "metadata": {},
     "output_type": "execute_result"
    }
   ],
   "source": [
    "big_df.head()"
   ]
  },
  {
   "cell_type": "code",
   "execution_count": 9,
   "id": "ff034642-0725-42f6-87ff-d0a8c03f8549",
   "metadata": {},
   "outputs": [],
   "source": [
    "grouped_category = big_df.groupby(['category_id', 'category_name', 'english_name'])"
   ]
  },
  {
   "cell_type": "code",
   "execution_count": 10,
   "id": "032f9736-5e23-48e9-b1d4-f91c883c9ad3",
   "metadata": {},
   "outputs": [],
   "source": [
    "grouped_state = big_df.groupby(['state'])"
   ]
  },
  {
   "cell_type": "code",
   "execution_count": 11,
   "id": "c0db95cb-ad6e-4fb0-9a28-bbe24caa8417",
   "metadata": {},
   "outputs": [
    {
     "data": {
      "text/plain": [
       "state\n",
       "                    51654\n",
       "Functional        5598979\n",
       "NULL               131195\n",
       "Non-Functional       8541\n",
       "dtype: int64"
      ]
     },
     "execution_count": 11,
     "metadata": {},
     "output_type": "execute_result"
    }
   ],
   "source": [
    "grouped_state.size()"
   ]
  },
  {
   "cell_type": "code",
   "execution_count": 12,
   "id": "c884bea3-82bc-423b-acf9-7a84b287f669",
   "metadata": {},
   "outputs": [],
   "source": [
    "grouped_status = big_df.groupby(['status'])"
   ]
  },
  {
   "cell_type": "code",
   "execution_count": 13,
   "id": "e3b627d6-e16a-4eac-868a-e9ed62070ed9",
   "metadata": {},
   "outputs": [
    {
     "data": {
      "text/plain": [
       "status\n",
       "Discard      4672498\n",
       "Installed     138675\n",
       "NULL            4403\n",
       "Return         81531\n",
       "Stowed        893262\n",
       "dtype: int64"
      ]
     },
     "execution_count": 13,
     "metadata": {},
     "output_type": "execute_result"
    }
   ],
   "source": [
    "grouped_status.size()"
   ]
  },
  {
   "cell_type": "code",
   "execution_count": 15,
   "id": "42311158-8d49-4367-a989-7ed87142afb9",
   "metadata": {},
   "outputs": [],
   "source": [
    "useful_status = big_df.apply(lambda row: True if row['status'] == 'Installed' or row['status'] == 'Stowed' else False, axis=1)"
   ]
  },
  {
   "cell_type": "code",
   "execution_count": 19,
   "id": "681e27ff-e28c-42ee-9180-b1d8ffa66431",
   "metadata": {},
   "outputs": [],
   "source": [
    "num_useful_status = len(useful_status[useful_status == True].index)"
   ]
  },
  {
   "cell_type": "code",
   "execution_count": 20,
   "id": "ad1a813c-a63c-4f36-ab95-7dde70bce321",
   "metadata": {},
   "outputs": [
    {
     "data": {
      "text/plain": [
       "1031937"
      ]
     },
     "execution_count": 20,
     "metadata": {},
     "output_type": "execute_result"
    }
   ],
   "source": [
    "num_useful_status"
   ]
  },
  {
   "cell_type": "code",
   "execution_count": 21,
   "id": "d9edfb6b-c1d9-4e31-a84a-5068cceb977f",
   "metadata": {},
   "outputs": [],
   "source": [
    "num_functional_state = len(big_df[big_df['state'] == 'Functional'].index)"
   ]
  },
  {
   "cell_type": "code",
   "execution_count": 22,
   "id": "917e766d-8c64-4b2a-a66c-fc870e653acb",
   "metadata": {},
   "outputs": [
    {
     "data": {
      "text/plain": [
       "5598979"
      ]
     },
     "execution_count": 22,
     "metadata": {},
     "output_type": "execute_result"
    }
   ],
   "source": [
    "num_functional_state"
   ]
  },
  {
   "cell_type": "code",
   "execution_count": 23,
   "id": "855b0570-dd3f-415f-90a3-d9222c42974f",
   "metadata": {},
   "outputs": [],
   "source": [
    "grouped_state_stored = df.groupby(['state'])\n",
    "grouped_status_stored = df.groupby(['status'])"
   ]
  },
  {
   "cell_type": "code",
   "execution_count": 25,
   "id": "5efc1e32-b96b-43dc-a71d-10ac9e3802d7",
   "metadata": {},
   "outputs": [
    {
     "data": {
      "text/plain": [
       "state\n",
       "Functional    518053\n",
       "dtype: int64"
      ]
     },
     "execution_count": 25,
     "metadata": {},
     "output_type": "execute_result"
    }
   ],
   "source": [
    "grouped_state_stored.size()"
   ]
  },
  {
   "cell_type": "code",
   "execution_count": 26,
   "id": "ddfba0ae-676b-47da-81de-0595e0614e13",
   "metadata": {},
   "outputs": [
    {
     "data": {
      "text/plain": [
       "status\n",
       "Discard      142555\n",
       "Installed     37743\n",
       "Stowed       353591\n",
       "dtype: int64"
      ]
     },
     "execution_count": 26,
     "metadata": {},
     "output_type": "execute_result"
    }
   ],
   "source": [
    "grouped_status_stored.size()"
   ]
  },
  {
   "cell_type": "code",
   "execution_count": 28,
   "id": "c1d664bf-4107-4cde-9628-934bd63c958c",
   "metadata": {},
   "outputs": [
    {
     "data": {
      "text/plain": [
       "533987"
      ]
     },
     "execution_count": 28,
     "metadata": {},
     "output_type": "execute_result"
    }
   ],
   "source": [
    "df.shape[0]"
   ]
  },
  {
   "cell_type": "code",
   "execution_count": null,
   "id": "300bce7d-e08d-4435-a784-1828f4a239d2",
   "metadata": {},
   "outputs": [],
   "source": []
  }
 ],
 "metadata": {
  "kernelspec": {
   "display_name": "Python 3 (ipykernel)",
   "language": "python",
   "name": "python3"
  },
  "language_info": {
   "codemirror_mode": {
    "name": "ipython",
    "version": 3
   },
   "file_extension": ".py",
   "mimetype": "text/x-python",
   "name": "python",
   "nbconvert_exporter": "python",
   "pygments_lexer": "ipython3",
   "version": "3.11.6"
  }
 },
 "nbformat": 4,
 "nbformat_minor": 5
}
