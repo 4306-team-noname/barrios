{
 "cells": [
  {
   "cell_type": "code",
   "execution_count": 12,
   "id": "3b32e2aa-4396-4aed-aaf3-f9b3a3f000bf",
   "metadata": {},
   "outputs": [],
   "source": [
    "import pandas as pd\n",
    "file_path = '../../iss-data/csv/stored_items_only_inventory_mgmt_system_consumables.csv'"
   ]
  },
  {
   "cell_type": "code",
   "execution_count": 15,
   "id": "d0be6301-97c2-4722-bc54-af8358978d43",
   "metadata": {},
   "outputs": [],
   "source": [
    "for i,chunk in enumerate(pd.read_csv(file_path, chunksize=10000, keep_default_na=False)):\n",
    "    chunk.to_csv('../../iss-data/csv/stored_ims_items{}.csv'.format(i), index=False)"
   ]
  },
  {
   "cell_type": "code",
   "execution_count": null,
   "id": "726dc660-c3a9-4cf9-a63d-0923c156429b",
   "metadata": {},
   "outputs": [],
   "source": []
  }
 ],
 "metadata": {
  "kernelspec": {
   "display_name": "Python 3 (ipykernel)",
   "language": "python",
   "name": "python3"
  },
  "language_info": {
   "codemirror_mode": {
    "name": "ipython",
    "version": 3
   },
   "file_extension": ".py",
   "mimetype": "text/x-python",
   "name": "python",
   "nbconvert_exporter": "python",
   "pygments_lexer": "ipython3",
   "version": "3.11.6"
  }
 },
 "nbformat": 4,
 "nbformat_minor": 5
}
