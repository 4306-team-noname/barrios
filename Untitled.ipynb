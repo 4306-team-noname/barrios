{
 "cells": [
  {
   "cell_type": "code",
   "execution_count": 1,
   "id": "ee8530b3-690b-4477-88db-aa2fd1701598",
   "metadata": {},
   "outputs": [],
   "source": [
    "import pandas as pd"
   ]
  },
  {
   "cell_type": "code",
   "execution_count": 2,
   "id": "96e31c46-223d-4520-b94b-06692e81054f",
   "metadata": {},
   "outputs": [],
   "source": [
    "df = pd.read_csv('iss-data/csv/stored_items_only_inventory_mgmt_system_consumables_20220101-20230905.csv')"
   ]
  },
  {
   "cell_type": "code",
   "execution_count": 3,
   "id": "6f0187bb-de61-44df-8087-391d3bcf79cf",
   "metadata": {},
   "outputs": [],
   "source": [
    "catgroups = df.groupby(['categoryID', 'category_name'])"
   ]
  },
  {
   "cell_type": "code",
   "execution_count": 4,
   "id": "92f034bd-55c6-4a52-9379-7410100b8e71",
   "metadata": {},
   "outputs": [
    {
     "data": {
      "text/plain": [
       "categoryID  category_name \n",
       "1           EDV                18638\n",
       "2           Pretreat Tanks      8978\n",
       "3           KTO               117963\n",
       "4           ACY Inserts        52671\n",
       "5           Filter Inserts     17255\n",
       "6           Food              124730\n",
       "            Food-US           159306\n",
       "7           Food-RS            34446\n",
       "dtype: int64"
      ]
     },
     "execution_count": 4,
     "metadata": {},
     "output_type": "execute_result"
    }
   ],
   "source": [
    "catgroups.size()"
   ]
  },
  {
   "cell_type": "code",
   "execution_count": null,
   "id": "64b5e813-61c7-4e79-9dbf-99fdf296f6c8",
   "metadata": {},
   "outputs": [],
   "source": []
  }
 ],
 "metadata": {
  "kernelspec": {
   "display_name": "Python 3 (ipykernel)",
   "language": "python",
   "name": "python3"
  },
  "language_info": {
   "codemirror_mode": {
    "name": "ipython",
    "version": 3
   },
   "file_extension": ".py",
   "mimetype": "text/x-python",
   "name": "python",
   "nbconvert_exporter": "python",
   "pygments_lexer": "ipython3",
   "version": "3.11.5"
  }
 },
 "nbformat": 4,
 "nbformat_minor": 5
}
