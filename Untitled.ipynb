{
 "cells": [
  {
   "cell_type": "code",
   "execution_count": 1,
   "id": "ee8530b3-690b-4477-88db-aa2fd1701598",
   "metadata": {},
   "outputs": [],
   "source": [
    "import pandas as pd"
   ]
  },
  {
   "cell_type": "code",
   "execution_count": 71,
   "id": "96e31c46-223d-4520-b94b-06692e81054f",
   "metadata": {},
   "outputs": [],
   "source": [
    "df = pd.read_csv('iss-data/csv/stored_items_only_inventory_mgmt_system_consumables_20220101-20230905.csv', index_col=False)"
   ]
  },
  {
   "cell_type": "code",
   "execution_count": 77,
   "id": "e6438674-7c2d-4ce4-89e7-4c5e2d5be841",
   "metadata": {},
   "outputs": [],
   "source": [
    "df = df.drop('Unnamed: 41', axis=1)"
   ]
  },
  {
   "cell_type": "code",
   "execution_count": 70,
   "id": "f8140f6a-076c-4fe2-9402-232b33cdf944",
   "metadata": {},
   "outputs": [],
   "source": [
    "big_df = pd.read_csv('iss-data/csv/inventory_mgmt_system_consumables_20220101-20230905.csv', index_col=False, header=None, keep_default_na=False)"
   ]
  },
  {
   "cell_type": "code",
   "execution_count": 78,
   "id": "27a0f799-2f77-413a-814e-5abfa6a72312",
   "metadata": {},
   "outputs": [],
   "source": [
    "big_df.columns = df.columns"
   ]
  },
  {
   "cell_type": "code",
   "execution_count": 67,
   "id": "a439c091-f7c5-4776-849f-524e489a0f88",
   "metadata": {},
   "outputs": [],
   "source": [
    "big_df = big_df.reset_index(drop=True)"
   ]
  },
  {
   "cell_type": "code",
   "execution_count": 79,
   "id": "7d2c5f5c-301f-4c6a-bee0-c10751adc530",
   "metadata": {},
   "outputs": [],
   "source": [
    "preview = big_df.head()"
   ]
  },
  {
   "cell_type": "code",
   "execution_count": 80,
   "id": "12ade987-1d69-4440-b9df-428e03e40305",
   "metadata": {},
   "outputs": [
    {
     "data": {
      "text/html": [
       "<div>\n",
       "<style scoped>\n",
       "    .dataframe tbody tr th:only-of-type {\n",
       "        vertical-align: middle;\n",
       "    }\n",
       "\n",
       "    .dataframe tbody tr th {\n",
       "        vertical-align: top;\n",
       "    }\n",
       "\n",
       "    .dataframe thead th {\n",
       "        text-align: right;\n",
       "    }\n",
       "</style>\n",
       "<table border=\"1\" class=\"dataframe\">\n",
       "  <thead>\n",
       "    <tr style=\"text-align: right;\">\n",
       "      <th></th>\n",
       "      <th>datedim</th>\n",
       "      <th>id</th>\n",
       "      <th>id_parent</th>\n",
       "      <th>id_path</th>\n",
       "      <th>tree_depth</th>\n",
       "      <th>tree</th>\n",
       "      <th>part_number</th>\n",
       "      <th>serial_number</th>\n",
       "      <th>location_name</th>\n",
       "      <th>original_ip_owner</th>\n",
       "      <th>...</th>\n",
       "      <th>status</th>\n",
       "      <th>is_container</th>\n",
       "      <th>is_moveable</th>\n",
       "      <th>system</th>\n",
       "      <th>subsystem</th>\n",
       "      <th>action_date</th>\n",
       "      <th>move_date</th>\n",
       "      <th>fill_status</th>\n",
       "      <th>categoryID</th>\n",
       "      <th>category_name</th>\n",
       "    </tr>\n",
       "  </thead>\n",
       "  <tbody>\n",
       "    <tr>\n",
       "      <th>0</th>\n",
       "      <td>2022-01-01 10:01:08.690</td>\n",
       "      <td>364155</td>\n",
       "      <td>265</td>\n",
       "      <td>/0/101/265/364155/</td>\n",
       "      <td>3</td>\n",
       "      <td>Storage Location</td>\n",
       "      <td>11Ф615.8720А55-20</td>\n",
       "      <td>1180</td>\n",
       "      <td>ФГБ1ГА</td>\n",
       "      <td>Russian Space Agency</td>\n",
       "      <td>...</td>\n",
       "      <td>Stowed</td>\n",
       "      <td>1</td>\n",
       "      <td>1</td>\n",
       "      <td>SM Hygiene Sanitary Equipment</td>\n",
       "      <td>АсСУ</td>\n",
       "      <td>2020-10-10 19:22:04.180</td>\n",
       "      <td>2020-10-10 19:22:04.180</td>\n",
       "      <td>NULL</td>\n",
       "      <td>3</td>\n",
       "      <td>KTO</td>\n",
       "    </tr>\n",
       "    <tr>\n",
       "      <th>1</th>\n",
       "      <td>2022-01-01 10:01:08.690</td>\n",
       "      <td>364156</td>\n",
       "      <td>265</td>\n",
       "      <td>/0/101/265/364156/</td>\n",
       "      <td>3</td>\n",
       "      <td>Storage Location</td>\n",
       "      <td>11Ф615.8720А55-20</td>\n",
       "      <td>1181</td>\n",
       "      <td>ФГБ1ГА</td>\n",
       "      <td>Russian Space Agency</td>\n",
       "      <td>...</td>\n",
       "      <td>Stowed</td>\n",
       "      <td>1</td>\n",
       "      <td>1</td>\n",
       "      <td>SM Hygiene Sanitary Equipment</td>\n",
       "      <td>АсСУ</td>\n",
       "      <td>2020-10-10 19:22:04.300</td>\n",
       "      <td>2020-10-10 19:22:04.300</td>\n",
       "      <td>NULL</td>\n",
       "      <td>3</td>\n",
       "      <td>KTO</td>\n",
       "    </tr>\n",
       "    <tr>\n",
       "      <th>2</th>\n",
       "      <td>2022-01-01 10:01:08.690</td>\n",
       "      <td>364157</td>\n",
       "      <td>265</td>\n",
       "      <td>/0/101/265/364157/</td>\n",
       "      <td>3</td>\n",
       "      <td>Storage Location</td>\n",
       "      <td>11Ф615.8720А55-20</td>\n",
       "      <td>1182</td>\n",
       "      <td>ФГБ1ГА</td>\n",
       "      <td>Russian Space Agency</td>\n",
       "      <td>...</td>\n",
       "      <td>Stowed</td>\n",
       "      <td>1</td>\n",
       "      <td>1</td>\n",
       "      <td>SM Hygiene Sanitary Equipment</td>\n",
       "      <td>АсСУ</td>\n",
       "      <td>2020-10-10 19:22:04.263</td>\n",
       "      <td>2020-10-10 19:22:04.263</td>\n",
       "      <td>NULL</td>\n",
       "      <td>3</td>\n",
       "      <td>KTO</td>\n",
       "    </tr>\n",
       "    <tr>\n",
       "      <th>3</th>\n",
       "      <td>2022-01-01 10:01:08.690</td>\n",
       "      <td>364158</td>\n",
       "      <td>265</td>\n",
       "      <td>/0/101/265/364158/</td>\n",
       "      <td>3</td>\n",
       "      <td>Storage Location</td>\n",
       "      <td>11Ф615.8720А55-10</td>\n",
       "      <td>1182</td>\n",
       "      <td>ФГБ1ГА</td>\n",
       "      <td>Russian Space Agency</td>\n",
       "      <td>...</td>\n",
       "      <td>Stowed</td>\n",
       "      <td>1</td>\n",
       "      <td>1</td>\n",
       "      <td>SM Hygiene Sanitary Equipment</td>\n",
       "      <td>АсСУ</td>\n",
       "      <td>2020-10-10 19:22:04.250</td>\n",
       "      <td>2020-10-10 19:22:04.250</td>\n",
       "      <td>NULL</td>\n",
       "      <td>3</td>\n",
       "      <td>KTO</td>\n",
       "    </tr>\n",
       "    <tr>\n",
       "      <th>4</th>\n",
       "      <td>2022-01-01 10:01:08.690</td>\n",
       "      <td>364160</td>\n",
       "      <td>265</td>\n",
       "      <td>/0/101/265/364160/</td>\n",
       "      <td>3</td>\n",
       "      <td>Storage Location</td>\n",
       "      <td>11Ф615.8720А55-20</td>\n",
       "      <td>1184</td>\n",
       "      <td>ФГБ1ГА</td>\n",
       "      <td>Russian Space Agency</td>\n",
       "      <td>...</td>\n",
       "      <td>Stowed</td>\n",
       "      <td>1</td>\n",
       "      <td>1</td>\n",
       "      <td>SM Hygiene Sanitary Equipment</td>\n",
       "      <td>АсСУ</td>\n",
       "      <td>2020-10-10 19:22:04.290</td>\n",
       "      <td>2020-10-10 19:22:04.290</td>\n",
       "      <td>NULL</td>\n",
       "      <td>3</td>\n",
       "      <td>KTO</td>\n",
       "    </tr>\n",
       "  </tbody>\n",
       "</table>\n",
       "<p>5 rows × 41 columns</p>\n",
       "</div>"
      ],
      "text/plain": [
       "                   datedim      id  id_parent             id_path  tree_depth  \\\n",
       "0  2022-01-01 10:01:08.690  364155        265  /0/101/265/364155/           3   \n",
       "1  2022-01-01 10:01:08.690  364156        265  /0/101/265/364156/           3   \n",
       "2  2022-01-01 10:01:08.690  364157        265  /0/101/265/364157/           3   \n",
       "3  2022-01-01 10:01:08.690  364158        265  /0/101/265/364158/           3   \n",
       "4  2022-01-01 10:01:08.690  364160        265  /0/101/265/364160/           3   \n",
       "\n",
       "               tree        part_number serial_number location_name  \\\n",
       "0  Storage Location  11Ф615.8720А55-20          1180        ФГБ1ГА   \n",
       "1  Storage Location  11Ф615.8720А55-20          1181        ФГБ1ГА   \n",
       "2  Storage Location  11Ф615.8720А55-20          1182        ФГБ1ГА   \n",
       "3  Storage Location  11Ф615.8720А55-10          1182        ФГБ1ГА   \n",
       "4  Storage Location  11Ф615.8720А55-20          1184        ФГБ1ГА   \n",
       "\n",
       "      original_ip_owner  ...  status is_container is_moveable  \\\n",
       "0  Russian Space Agency  ...  Stowed            1           1   \n",
       "1  Russian Space Agency  ...  Stowed            1           1   \n",
       "2  Russian Space Agency  ...  Stowed            1           1   \n",
       "3  Russian Space Agency  ...  Stowed            1           1   \n",
       "4  Russian Space Agency  ...  Stowed            1           1   \n",
       "\n",
       "                          system subsystem              action_date  \\\n",
       "0  SM Hygiene Sanitary Equipment      АсСУ  2020-10-10 19:22:04.180   \n",
       "1  SM Hygiene Sanitary Equipment      АсСУ  2020-10-10 19:22:04.300   \n",
       "2  SM Hygiene Sanitary Equipment      АсСУ  2020-10-10 19:22:04.263   \n",
       "3  SM Hygiene Sanitary Equipment      АсСУ  2020-10-10 19:22:04.250   \n",
       "4  SM Hygiene Sanitary Equipment      АсСУ  2020-10-10 19:22:04.290   \n",
       "\n",
       "                 move_date fill_status categoryID category_name  \n",
       "0  2020-10-10 19:22:04.180        NULL          3           KTO  \n",
       "1  2020-10-10 19:22:04.300        NULL          3           KTO  \n",
       "2  2020-10-10 19:22:04.263        NULL          3           KTO  \n",
       "3  2020-10-10 19:22:04.250        NULL          3           KTO  \n",
       "4  2020-10-10 19:22:04.290        NULL          3           KTO  \n",
       "\n",
       "[5 rows x 41 columns]"
      ]
     },
     "execution_count": 80,
     "metadata": {},
     "output_type": "execute_result"
    }
   ],
   "source": [
    "preview"
   ]
  },
  {
   "cell_type": "code",
   "execution_count": 83,
   "id": "9a149210-1212-4656-8cf3-bd1f3a3d3be4",
   "metadata": {},
   "outputs": [],
   "source": [
    "preview.to_csv('iss-data/csv/preview.csv', index=False)"
   ]
  },
  {
   "cell_type": "code",
   "execution_count": 48,
   "id": "fb14f6c7-091c-466d-bfe1-94ffc192ea00",
   "metadata": {},
   "outputs": [],
   "source": [
    "df = df.drop('Unnamed: 41', axis=1)"
   ]
  },
  {
   "cell_type": "code",
   "execution_count": 49,
   "id": "a94e4917-2bad-4014-ac82-351ea41d41ef",
   "metadata": {},
   "outputs": [
    {
     "data": {
      "text/plain": [
       "Index(['datedim', 'id', 'id_parent', 'id_path', 'tree_depth', 'tree',\n",
       "       'part_number', 'serial_number', 'location_name', 'original_ip_owner',\n",
       "       'current_ip_owner', 'operational_nomenclature', 'russian_name',\n",
       "       'english_name', 'barcode', 'quantity', 'width', 'height', 'length',\n",
       "       'diameter', 'calculated_volume', 'stwg_ovrrd_vol', 'children_volume',\n",
       "       'stwg_ovrrd_chldrn_vol', 'ovrrd_notes', 'volume_notes', 'expire_date',\n",
       "       'launch', 'type', 'hazard', 'state', 'status', 'is_container',\n",
       "       'is_moveable', 'system', 'subsystem', 'action_date', 'move_date',\n",
       "       'fill_status', 'categoryID', 'category_name'],\n",
       "      dtype='object')"
      ]
     },
     "execution_count": 49,
     "metadata": {},
     "output_type": "execute_result"
    }
   ],
   "source": [
    "df.columns"
   ]
  },
  {
   "cell_type": "code",
   "execution_count": 32,
   "id": "19207a3a-a2fe-42de-8be7-91f59d5749b5",
   "metadata": {},
   "outputs": [],
   "source": [
    "big_df.to_csv('iss-data/csv/inventory_mgmt_system_consumables_20220101-20230905_header.csv', index=False)"
   ]
  },
  {
   "cell_type": "code",
   "execution_count": 50,
   "id": "09d2af96-96f9-4535-91cb-2dcbd5d67582",
   "metadata": {},
   "outputs": [],
   "source": [
    "big_df.head().to_csv('iss-data/csv/inventory_mgmt_system_consumables_preview.csv', header=df.columns, index=False)"
   ]
  }
 ],
 "metadata": {
  "kernelspec": {
   "display_name": "Python 3 (ipykernel)",
   "language": "python",
   "name": "python3"
  },
  "language_info": {
   "codemirror_mode": {
    "name": "ipython",
    "version": 3
   },
   "file_extension": ".py",
   "mimetype": "text/x-python",
   "name": "python",
   "nbconvert_exporter": "python",
   "pygments_lexer": "ipython3",
   "version": "3.11.5"
  }
 },
 "nbformat": 4,
 "nbformat_minor": 5
}
