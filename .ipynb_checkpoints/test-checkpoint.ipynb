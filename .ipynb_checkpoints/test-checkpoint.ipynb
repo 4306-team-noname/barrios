{
 "cells": [
  {
   "cell_type": "code",
   "execution_count": 11,
   "id": "6ed3de91-2d79-40b4-a45d-370e9cbe64de",
   "metadata": {},
   "outputs": [],
   "source": [
    "import pandas as pd"
   ]
  },
  {
   "cell_type": "code",
   "execution_count": 12,
   "id": "068eb531-7580-45c2-949b-5f84c75a5f5e",
   "metadata": {},
   "outputs": [],
   "source": [
    "import os"
   ]
  },
  {
   "cell_type": "code",
   "execution_count": 14,
   "id": "426e0e7d-0c1f-4bb0-8e89-e0fecf6aa653",
   "metadata": {},
   "outputs": [
    {
     "data": {
      "text/plain": [
       "'/home/trainingmontage/dev/projects/barrios/iss-data/csv'"
      ]
     },
     "execution_count": 14,
     "metadata": {},
     "output_type": "execute_result"
    }
   ],
   "source": [
    "os.getcwd()"
   ]
  },
  {
   "cell_type": "code",
   "execution_count": 15,
   "id": "3bd531a3-534e-456a-8176-84aa4e524fda",
   "metadata": {},
   "outputs": [],
   "source": [
    "df = pd.read_csv('./stored_items_only_inventory_mgmt_system_consumables_20220101-20230905.csv')"
   ]
  },
  {
   "cell_type": "code",
   "execution_count": 16,
   "id": "738df0e0-02b8-41df-b51b-94a321fa78a2",
   "metadata": {},
   "outputs": [
    {
     "data": {
      "text/plain": [
       "Index(['datedim', 'id', 'id_parent', 'id_path', 'tree_depth', 'tree',\n",
       "       'part_number', 'serial_number', 'location_name', 'original_ip_owner',\n",
       "       'current_ip_owner', 'operational_nomenclature', 'russian_name',\n",
       "       'english_name', 'barcode', 'quantity', 'width', 'height', 'length',\n",
       "       'diameter', 'calculated_volume', 'stwg_ovrrd_vol', 'children_volume',\n",
       "       'stwg_ovrrd_chldrn_vol', 'ovrrd_notes', 'volume_notes', 'expire_date',\n",
       "       'launch', 'type', 'hazard', 'state', 'status', 'is_container',\n",
       "       'is_moveable', 'system', 'subsystem', 'action_date', 'move_date',\n",
       "       'fill_status', 'categoryID', 'category_name'],\n",
       "      dtype='object')"
      ]
     },
     "execution_count": 16,
     "metadata": {},
     "output_type": "execute_result"
    }
   ],
   "source": [
    "df.columns"
   ]
  },
  {
   "cell_type": "code",
   "execution_count": 20,
   "id": "087703eb-6d88-430b-b37f-5b3ded70f31f",
   "metadata": {},
   "outputs": [],
   "source": [
    "dfcols = df.columns.to_numpy()"
   ]
  },
  {
   "cell_type": "code",
   "execution_count": 19,
   "id": "d52cdf0e-6c9f-4a02-916b-8d56c0fdc1b7",
   "metadata": {},
   "outputs": [],
   "source": [
    "df2 = pd.read_csv('./stored_items_only_inventory_mgmt_system_consumables_20220101-20230905.csv')"
   ]
  },
  {
   "cell_type": "code",
   "execution_count": 21,
   "id": "25fd5406-c6a0-4fbe-919c-b347ef54d904",
   "metadata": {},
   "outputs": [],
   "source": [
    "df2cols = df2.columns.to_numpy()"
   ]
  },
  {
   "cell_type": "code",
   "execution_count": 22,
   "id": "1d9f1490-5dc8-4330-a1b4-acab4e8d7a59",
   "metadata": {},
   "outputs": [
    {
     "data": {
      "text/plain": [
       "True"
      ]
     },
     "execution_count": 22,
     "metadata": {},
     "output_type": "execute_result"
    }
   ],
   "source": [
    "(dfcols == df2cols).all()"
   ]
  },
  {
   "cell_type": "code",
   "execution_count": null,
   "id": "eb641b9f-7241-47b0-884c-b0c87a254e8d",
   "metadata": {},
   "outputs": [],
   "source": []
  }
 ],
 "metadata": {
  "kernelspec": {
   "display_name": "Python 3 (ipykernel)",
   "language": "python",
   "name": "python3"
  },
  "language_info": {
   "codemirror_mode": {
    "name": "ipython",
    "version": 3
   },
   "file_extension": ".py",
   "mimetype": "text/x-python",
   "name": "python",
   "nbconvert_exporter": "python",
   "pygments_lexer": "ipython3",
   "version": "3.11.5"
  }
 },
 "nbformat": 4,
 "nbformat_minor": 5
}
