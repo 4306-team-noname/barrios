{
 "cells": [
  {
   "cell_type": "code",
   "execution_count": 1,
   "id": "1c0617d4-4819-446f-9dcf-379177cfc891",
   "metadata": {},
   "outputs": [],
   "source": [
    "import pandas as pd\n",
    "from scipy.optimize import linprog\n",
    "import numpy as np"
   ]
  },
  {
   "cell_type": "code",
   "execution_count": 2,
   "id": "0ed57d0f-6b65-4be8-9edf-b9735d1095bc",
   "metadata": {},
   "outputs": [],
   "source": [
    "fp_df = pd.read_csv('../iss-data/csv/iss_flight_plan_20220101-20251231.csv')"
   ]
  },
  {
   "cell_type": "code",
   "execution_count": 3,
   "id": "fc984bfe-9a2a-4955-800f-59663ca4d166",
   "metadata": {},
   "outputs": [],
   "source": [
    "launch_dates_df = fp_df.loc[fp_df['event'] == 'Launch']"
   ]
  },
  {
   "cell_type": "code",
   "execution_count": 4,
   "id": "48dbbdcc-3a00-4586-a7b7-0b01a212c797",
   "metadata": {},
   "outputs": [],
   "source": [
    "launch_dates_df = launch_dates_df.drop(['port_name', 'vehicle_type', 'eva_name', 'eva_type', 'eva_accuracy', 'event'], axis=1)"
   ]
  },
  {
   "cell_type": "code",
   "execution_count": 5,
   "id": "15083431-1b52-4527-b852-928bb4632aa2",
   "metadata": {},
   "outputs": [],
   "source": [
    "launch_dates = launch_dates_df['datedim'].to_numpy()"
   ]
  },
  {
   "cell_type": "code",
   "execution_count": 6,
   "id": "f414f397-fa9d-4903-b8fe-53db4f6af2d1",
   "metadata": {},
   "outputs": [],
   "source": [
    "vehicle_names = launch_dates_df['vehicle_name'].to_numpy()"
   ]
  },
  {
   "cell_type": "markdown",
   "id": "3bce7660-16b6-4210-b32b-9025035d9315",
   "metadata": {},
   "source": [
    "We need the two above variables. But we especially need the `launch_dates` array for the optimization function."
   ]
  },
  {
   "cell_type": "code",
   "execution_count": 7,
   "id": "792f8180-e0da-4d93-9978-ad653952f50d",
   "metadata": {},
   "outputs": [],
   "source": [
    "thresholds_df = pd.read_csv('../iss-data/csv/thresholds_limits_definition.csv')"
   ]
  },
  {
   "cell_type": "code",
   "execution_count": 8,
   "id": "b441bafa-3c38-41fa-b55c-85e8882f64cb",
   "metadata": {},
   "outputs": [
    {
     "data": {
      "text/html": [
       "<div>\n",
       "<style scoped>\n",
       "    .dataframe tbody tr th:only-of-type {\n",
       "        vertical-align: middle;\n",
       "    }\n",
       "\n",
       "    .dataframe tbody tr th {\n",
       "        vertical-align: top;\n",
       "    }\n",
       "\n",
       "    .dataframe thead th {\n",
       "        text-align: right;\n",
       "    }\n",
       "</style>\n",
       "<table border=\"1\" class=\"dataframe\">\n",
       "  <thead>\n",
       "    <tr style=\"text-align: right;\">\n",
       "      <th></th>\n",
       "      <th>threshold_category</th>\n",
       "      <th>threshold_value</th>\n",
       "      <th>threshold_owner</th>\n",
       "      <th>units</th>\n",
       "    </tr>\n",
       "  </thead>\n",
       "  <tbody>\n",
       "    <tr>\n",
       "      <th>0</th>\n",
       "      <td>ACY Insert</td>\n",
       "      <td>800.0</td>\n",
       "      <td>USOS</td>\n",
       "      <td>ACY Inserts</td>\n",
       "    </tr>\n",
       "    <tr>\n",
       "      <th>1</th>\n",
       "      <td>KTO</td>\n",
       "      <td>22.0</td>\n",
       "      <td>USOS</td>\n",
       "      <td>KTO</td>\n",
       "    </tr>\n",
       "    <tr>\n",
       "      <th>2</th>\n",
       "      <td>Pretreat Tanks</td>\n",
       "      <td>4.0</td>\n",
       "      <td>USOS</td>\n",
       "      <td>Pretreat Tanks</td>\n",
       "    </tr>\n",
       "    <tr>\n",
       "      <th>3</th>\n",
       "      <td>Filter Inserts</td>\n",
       "      <td>4.0</td>\n",
       "      <td>USOS</td>\n",
       "      <td>Filter Inserts</td>\n",
       "    </tr>\n",
       "    <tr>\n",
       "      <th>4</th>\n",
       "      <td>Urine Receptacle</td>\n",
       "      <td>4.0</td>\n",
       "      <td>USOS</td>\n",
       "      <td>Urine Receptacles</td>\n",
       "    </tr>\n",
       "    <tr>\n",
       "      <th>5</th>\n",
       "      <td>EDVs</td>\n",
       "      <td>21.0</td>\n",
       "      <td>USOS</td>\n",
       "      <td>EDVs</td>\n",
       "    </tr>\n",
       "    <tr>\n",
       "      <th>6</th>\n",
       "      <td>ACY Insert</td>\n",
       "      <td>239.0</td>\n",
       "      <td>RSOS</td>\n",
       "      <td>ACY Inserts</td>\n",
       "    </tr>\n",
       "    <tr>\n",
       "      <th>7</th>\n",
       "      <td>KTO</td>\n",
       "      <td>6.0</td>\n",
       "      <td>RSOS</td>\n",
       "      <td>KTO</td>\n",
       "    </tr>\n",
       "    <tr>\n",
       "      <th>8</th>\n",
       "      <td>Pretreat Tanks</td>\n",
       "      <td>1.0</td>\n",
       "      <td>RSOS</td>\n",
       "      <td>Pretreat Tanks</td>\n",
       "    </tr>\n",
       "    <tr>\n",
       "      <th>9</th>\n",
       "      <td>Filter Inserts</td>\n",
       "      <td>4.0</td>\n",
       "      <td>RSOS</td>\n",
       "      <td>Filter Inserts</td>\n",
       "    </tr>\n",
       "    <tr>\n",
       "      <th>10</th>\n",
       "      <td>Urine Receptacle</td>\n",
       "      <td>4.0</td>\n",
       "      <td>RSOS</td>\n",
       "      <td>Urine Receptacles</td>\n",
       "    </tr>\n",
       "    <tr>\n",
       "      <th>11</th>\n",
       "      <td>O2 (Oxygen)</td>\n",
       "      <td>402.0</td>\n",
       "      <td>NaN</td>\n",
       "      <td>lbs</td>\n",
       "    </tr>\n",
       "    <tr>\n",
       "      <th>12</th>\n",
       "      <td>N2 (Nitrogen)</td>\n",
       "      <td>275.0</td>\n",
       "      <td>NaN</td>\n",
       "      <td>lbs</td>\n",
       "    </tr>\n",
       "    <tr>\n",
       "      <th>13</th>\n",
       "      <td>Water Alert</td>\n",
       "      <td>1088.0</td>\n",
       "      <td>USOS</td>\n",
       "      <td>Liters</td>\n",
       "    </tr>\n",
       "    <tr>\n",
       "      <th>14</th>\n",
       "      <td>Water Critical</td>\n",
       "      <td>818.0</td>\n",
       "      <td>USOS</td>\n",
       "      <td>Liters</td>\n",
       "    </tr>\n",
       "    <tr>\n",
       "      <th>15</th>\n",
       "      <td>Food</td>\n",
       "      <td>160.0</td>\n",
       "      <td>USOS</td>\n",
       "      <td>BOB</td>\n",
       "    </tr>\n",
       "    <tr>\n",
       "      <th>16</th>\n",
       "      <td>Food</td>\n",
       "      <td>21.6</td>\n",
       "      <td>RSOS</td>\n",
       "      <td>BOB</td>\n",
       "    </tr>\n",
       "  </tbody>\n",
       "</table>\n",
       "</div>"
      ],
      "text/plain": [
       "   threshold_category  threshold_value threshold_owner              units\n",
       "0          ACY Insert            800.0            USOS        ACY Inserts\n",
       "1                 KTO             22.0            USOS                KTO\n",
       "2      Pretreat Tanks              4.0            USOS     Pretreat Tanks\n",
       "3      Filter Inserts              4.0            USOS     Filter Inserts\n",
       "4    Urine Receptacle              4.0            USOS  Urine Receptacles\n",
       "5                EDVs             21.0            USOS               EDVs\n",
       "6          ACY Insert            239.0            RSOS        ACY Inserts\n",
       "7                 KTO              6.0            RSOS                KTO\n",
       "8      Pretreat Tanks              1.0            RSOS     Pretreat Tanks\n",
       "9      Filter Inserts              4.0            RSOS     Filter Inserts\n",
       "10   Urine Receptacle              4.0            RSOS  Urine Receptacles\n",
       "11        O2 (Oxygen)            402.0             NaN                lbs\n",
       "12      N2 (Nitrogen)            275.0             NaN                lbs\n",
       "13        Water Alert           1088.0            USOS             Liters\n",
       "14     Water Critical            818.0            USOS             Liters\n",
       "15               Food            160.0            USOS                BOB\n",
       "16               Food             21.6            RSOS                BOB"
      ]
     },
     "execution_count": 8,
     "metadata": {},
     "output_type": "execute_result"
    }
   ],
   "source": [
    "thresholds_df"
   ]
  },
  {
   "cell_type": "code",
   "execution_count": 9,
   "id": "7017496e-84c8-4e53-9a8a-7ddcbdd57346",
   "metadata": {},
   "outputs": [],
   "source": [
    "thresholds_df = thresholds_df.loc[thresholds_df['threshold_owner'] != 'RSOS']"
   ]
  },
  {
   "cell_type": "code",
   "execution_count": 10,
   "id": "bc9b9f52-4f2f-4a39-bf66-792cfa76514e",
   "metadata": {},
   "outputs": [],
   "source": [
    "thresholds_df = thresholds_df.loc[thresholds_df['threshold_category'] != 'Water Critical']"
   ]
  },
  {
   "cell_type": "code",
   "execution_count": 11,
   "id": "c1de5d88-84b2-49d0-bab6-055e6314a4cf",
   "metadata": {},
   "outputs": [
    {
     "data": {
      "text/html": [
       "<div>\n",
       "<style scoped>\n",
       "    .dataframe tbody tr th:only-of-type {\n",
       "        vertical-align: middle;\n",
       "    }\n",
       "\n",
       "    .dataframe tbody tr th {\n",
       "        vertical-align: top;\n",
       "    }\n",
       "\n",
       "    .dataframe thead th {\n",
       "        text-align: right;\n",
       "    }\n",
       "</style>\n",
       "<table border=\"1\" class=\"dataframe\">\n",
       "  <thead>\n",
       "    <tr style=\"text-align: right;\">\n",
       "      <th></th>\n",
       "      <th>threshold_category</th>\n",
       "      <th>threshold_value</th>\n",
       "      <th>threshold_owner</th>\n",
       "      <th>units</th>\n",
       "    </tr>\n",
       "  </thead>\n",
       "  <tbody>\n",
       "    <tr>\n",
       "      <th>0</th>\n",
       "      <td>ACY Insert</td>\n",
       "      <td>800.0</td>\n",
       "      <td>USOS</td>\n",
       "      <td>ACY Inserts</td>\n",
       "    </tr>\n",
       "    <tr>\n",
       "      <th>1</th>\n",
       "      <td>KTO</td>\n",
       "      <td>22.0</td>\n",
       "      <td>USOS</td>\n",
       "      <td>KTO</td>\n",
       "    </tr>\n",
       "    <tr>\n",
       "      <th>2</th>\n",
       "      <td>Pretreat Tanks</td>\n",
       "      <td>4.0</td>\n",
       "      <td>USOS</td>\n",
       "      <td>Pretreat Tanks</td>\n",
       "    </tr>\n",
       "    <tr>\n",
       "      <th>3</th>\n",
       "      <td>Filter Inserts</td>\n",
       "      <td>4.0</td>\n",
       "      <td>USOS</td>\n",
       "      <td>Filter Inserts</td>\n",
       "    </tr>\n",
       "    <tr>\n",
       "      <th>4</th>\n",
       "      <td>Urine Receptacle</td>\n",
       "      <td>4.0</td>\n",
       "      <td>USOS</td>\n",
       "      <td>Urine Receptacles</td>\n",
       "    </tr>\n",
       "    <tr>\n",
       "      <th>5</th>\n",
       "      <td>EDVs</td>\n",
       "      <td>21.0</td>\n",
       "      <td>USOS</td>\n",
       "      <td>EDVs</td>\n",
       "    </tr>\n",
       "    <tr>\n",
       "      <th>11</th>\n",
       "      <td>O2 (Oxygen)</td>\n",
       "      <td>402.0</td>\n",
       "      <td>NaN</td>\n",
       "      <td>lbs</td>\n",
       "    </tr>\n",
       "    <tr>\n",
       "      <th>12</th>\n",
       "      <td>N2 (Nitrogen)</td>\n",
       "      <td>275.0</td>\n",
       "      <td>NaN</td>\n",
       "      <td>lbs</td>\n",
       "    </tr>\n",
       "    <tr>\n",
       "      <th>13</th>\n",
       "      <td>Water Alert</td>\n",
       "      <td>1088.0</td>\n",
       "      <td>USOS</td>\n",
       "      <td>Liters</td>\n",
       "    </tr>\n",
       "    <tr>\n",
       "      <th>15</th>\n",
       "      <td>Food</td>\n",
       "      <td>160.0</td>\n",
       "      <td>USOS</td>\n",
       "      <td>BOB</td>\n",
       "    </tr>\n",
       "  </tbody>\n",
       "</table>\n",
       "</div>"
      ],
      "text/plain": [
       "   threshold_category  threshold_value threshold_owner              units\n",
       "0          ACY Insert            800.0            USOS        ACY Inserts\n",
       "1                 KTO             22.0            USOS                KTO\n",
       "2      Pretreat Tanks              4.0            USOS     Pretreat Tanks\n",
       "3      Filter Inserts              4.0            USOS     Filter Inserts\n",
       "4    Urine Receptacle              4.0            USOS  Urine Receptacles\n",
       "5                EDVs             21.0            USOS               EDVs\n",
       "11        O2 (Oxygen)            402.0             NaN                lbs\n",
       "12      N2 (Nitrogen)            275.0             NaN                lbs\n",
       "13        Water Alert           1088.0            USOS             Liters\n",
       "15               Food            160.0            USOS                BOB"
      ]
     },
     "execution_count": 11,
     "metadata": {},
     "output_type": "execute_result"
    }
   ],
   "source": [
    "thresholds_df"
   ]
  },
  {
   "cell_type": "code",
   "execution_count": 12,
   "id": "bf6ea24b-006e-4a0d-b1dc-8861214b220b",
   "metadata": {},
   "outputs": [],
   "source": [
    "thresholds_df.loc[0, 'threshold_category'] = 'ACY Inserts'\n",
    "thresholds_df.loc[11, 'threshold_category'] = 'Oxygen'\n",
    "thresholds_df.loc[12, 'threshold_category'] = 'Nitrogen'\n",
    "thresholds_df.loc[13, 'threshold_category'] = 'Water'\n",
    "thresholds_df.loc[15, 'threshold_category'] = 'US Food BOBs'\n",
    "thresholds_df = thresholds_df.reindex()"
   ]
  },
  {
   "cell_type": "code",
   "execution_count": 13,
   "id": "f1b7bf67-a873-44c3-8f50-86119cb9ce3f",
   "metadata": {},
   "outputs": [],
   "source": [
    "units = thresholds_df['units'].tolist()"
   ]
  },
  {
   "cell_type": "code",
   "execution_count": 14,
   "id": "ac8b1d40-843d-434e-93bf-9c38302ae431",
   "metadata": {},
   "outputs": [],
   "source": [
    "thresholds = thresholds_df['threshold_value'].to_numpy()"
   ]
  },
  {
   "cell_type": "code",
   "execution_count": 15,
   "id": "587fae1a-2532-4062-9ed1-39c3dd6d9158",
   "metadata": {},
   "outputs": [],
   "source": [
    "consumables_str = thresholds_df['threshold_category'].to_numpy()\n",
    "consumable_id_mapping = {consumable: i for i, consumable in enumerate(consumables_str)}\n",
    "consumables_required = np.array([list(consumable_id_mapping.values())])\n",
    "usage_rates = np.array([3.9, 0.107142738, 0.016666668, 0.22727274, 0.22727274, 0.22727274, 5.49, 0.484929, 20.02, 0.081])\n",
    "launch_dates = np.array(launch_dates)"
   ]
  },
  {
   "cell_type": "code",
   "execution_count": 16,
   "id": "f27535ed-dc6e-4744-afc9-d8286dbc7579",
   "metadata": {},
   "outputs": [
    {
     "name": "stdout",
     "output_type": "stream",
     "text": [
      "launch_dates: ['2/15/2022' '2/19/2022' '4/8/2022' '5/19/2022' '7/15/2022' '10/5/2022'\n",
      " '10/26/2022' '11/7/2022' '11/26/2022' '2/9/2023' '2/24/2023' '3/2/2023'\n",
      " '3/15/2023' '5/21/2023' '6/5/2023' '8/2/2023' '8/23/2023' '8/26/2023'\n",
      " '11/1/2023' '1/10/2024' '1/17/2024' '1/29/2024' '2/15/2024' '2/18/2024'\n",
      " '3/4/2024' '4/11/2024' '5/1/2024' '5/10/2024' '5/31/2024' '6/30/2024'\n",
      " '8/4/2024' '8/19/2024' '8/25/2024' '9/15/2024' '11/1/2024' '12/3/2024'\n",
      " '12/7/2024' '12/30/2024' '12/31/2024' '2/1/2025' '2/6/2025' '2/24/2025'\n",
      " '5/15/2025' '5/16/2025' '6/14/2025' '8/1/2025' '8/4/2025' '9/1/2025'\n",
      " '10/1/2025' '11/1/2025' '11/26/2025' '12/20/2025']\n",
      "thresholds: [ 800.   22.    4.    4.    4.   21.  402.  275. 1088.  160.]\n",
      "consumables_str: ['ACY Inserts' 'KTO' 'Pretreat Tanks' 'Filter Inserts' 'Urine Receptacle'\n",
      " 'EDVs' 'Oxygen' 'Nitrogen' 'Water' 'US Food BOBs']\n",
      "consumables_required: [[0 1 2 3 4 5 6 7 8 9]]\n",
      "id_mapping: {'ACY Inserts': 0, 'KTO': 1, 'Pretreat Tanks': 2, 'Filter Inserts': 3, 'Urine Receptacle': 4, 'EDVs': 5, 'Oxygen': 6, 'Nitrogen': 7, 'Water': 8, 'US Food BOBs': 9}\n",
      "consumables_required_numeric: [[0 1 2 3 4 5 6 7 8 9]]\n"
     ]
    }
   ],
   "source": [
    "print(f\"launch_dates: {launch_dates}\")\n",
    "print(f\"thresholds: {thresholds}\")\n",
    "print(f\"consumables_str: {consumables_str}\")\n",
    "print(f\"consumables_required: {consumables_required}\")\n",
    "print(f\"id_mapping: {consumable_id_mapping}\")\n",
    "print(f\"consumables_required_numeric: {consumables_required}\")"
   ]
  },
  {
   "cell_type": "code",
   "execution_count": 17,
   "id": "e6f3416a-9862-4afa-ab96-4a406c3579b0",
   "metadata": {},
   "outputs": [],
   "source": [
    "from ortools.linear_solver import pywraplp\n",
    "solver = pywraplp.Solver.CreateSolver('GLOP')\n",
    "num_launches = len(launch_dates)\n",
    "num_consumables = len(consumables_required[0])"
   ]
  },
  {
   "cell_type": "code",
   "execution_count": 18,
   "id": "ea471356-7dc2-4cc3-b465-bc127320b423",
   "metadata": {},
   "outputs": [],
   "source": [
    "consumables = [[solver.NumVar(0, solver.infinity(), f\"consumable_{i}_{j}\") for j in range(num_consumables)] for i in range(num_launches)]"
   ]
  },
  {
   "cell_type": "code",
   "execution_count": 19,
   "id": "c9167e6b-ee5e-4a13-ad2d-e3f01e300dd6",
   "metadata": {},
   "outputs": [],
   "source": [
    "objective = solver.Objective()\n",
    "objective.SetMinimization()"
   ]
  },
  {
   "cell_type": "code",
   "execution_count": 20,
   "id": "668820f7-5987-41a8-8ea2-02af848a3d46",
   "metadata": {},
   "outputs": [],
   "source": [
    "for i in range(num_launches):\n",
    "    for j in range(num_consumables):\n",
    "        objective.SetCoefficient(consumables[i][j], 1)"
   ]
  },
  {
   "cell_type": "code",
   "execution_count": 21,
   "id": "4d66ada7-d49b-414b-b4bc-b8800edf81d3",
   "metadata": {},
   "outputs": [],
   "source": [
    "for i in range(num_consumables):\n",
    "    constraint = solver.Constraint(thresholds[i], solver.infinity())\n",
    "    for j in range(num_launches):\n",
    "        constraint.SetCoefficient(consumables[j][i], -1)"
   ]
  },
  {
   "cell_type": "code",
   "execution_count": 22,
   "id": "1e999109-201e-494e-8a73-3bd9333a1fc2",
   "metadata": {},
   "outputs": [],
   "source": [
    "usage_rate_constraint = solver.Constraint(0, 0)\n",
    "for i in range(num_launches):\n",
    "    for j in range(num_consumables):\n",
    "        usage_rate_constraint.SetCoefficient(consumables[i][j], -usage_rates[j])"
   ]
  },
  {
   "cell_type": "code",
   "execution_count": 23,
   "id": "35ea6b01-552e-4e21-b1b3-b4e26984d4b5",
   "metadata": {},
   "outputs": [
    {
     "data": {
      "text/plain": [
       "2"
      ]
     },
     "execution_count": 23,
     "metadata": {},
     "output_type": "execute_result"
    }
   ],
   "source": [
    "solver.Solve()"
   ]
  },
  {
   "cell_type": "code",
   "execution_count": 24,
   "id": "7d245294-2133-4acf-80e3-fcd430040b4d",
   "metadata": {},
   "outputs": [],
   "source": [
    "consumables_per_launch = np.zeros((num_launches, num_consumables))"
   ]
  },
  {
   "cell_type": "code",
   "execution_count": null,
   "id": "8d6cd9c3-6c61-4095-8774-f2d146ea38e4",
   "metadata": {},
   "outputs": [],
   "source": [
    "for i in range(num_launches):\n",
    "    for j in range(num_consumables):\n",
    "        consumables_per_launch[i, j] = consumables[i][j].solution_value()"
   ]
  },
  {
   "cell_type": "code",
   "execution_count": null,
   "id": "83ee55ea-5567-42a6-b74d-d3c684b69b9e",
   "metadata": {},
   "outputs": [],
   "source": [
    "print(\"Optimal number of consumables in each launch:\")\n",
    "print(consumables_per_launch)\n",
    "print(\"Total number of launches:\", int(objective.Value()))"
   ]
  }
 ],
 "metadata": {
  "kernelspec": {
   "display_name": "Python 3 (ipykernel)",
   "language": "python",
   "name": "python3"
  },
  "language_info": {
   "codemirror_mode": {
    "name": "ipython",
    "version": 3
   },
   "file_extension": ".py",
   "mimetype": "text/x-python",
   "name": "python",
   "nbconvert_exporter": "python",
   "pygments_lexer": "ipython3",
   "version": "3.11.6"
  }
 },
 "nbformat": 4,
 "nbformat_minor": 5
}
