{
 "cells": [
  {
   "cell_type": "code",
   "execution_count": 22,
   "metadata": {},
   "outputs": [],
   "source": [
    "from docplex.mp.model import Model\n",
    "m = Model(name='consumable ascension')"
   ]
  },
  {
   "cell_type": "markdown",
   "metadata": {},
   "source": [
    "# variables"
   ]
  },
  {
   "cell_type": "code",
   "execution_count": 23,
   "metadata": {},
   "outputs": [],
   "source": [
    "#consumable loading variables\n",
    "foodAmount = m.continuous_var(name='food consumable')\n",
    "waterAmount = m.continuous_var(name='water potable')\n",
    "toilAmount = m.continuous_var(name= 'toiletries')"
   ]
  },
  {
   "cell_type": "code",
   "execution_count": 24,
   "metadata": {},
   "outputs": [],
   "source": [
    "# amount of space each product takes up in the shuttle.\n",
    "foodSpace = 1.5\n",
    "waterSpace = 2\n",
    "toilSpace = 0.7"
   ]
  },
  {
   "cell_type": "markdown",
   "metadata": {},
   "source": [
    "# constraints"
   ]
  },
  {
   "cell_type": "code",
   "execution_count": 25,
   "metadata": {},
   "outputs": [],
   "source": [
    "# consumables must not go below a certain threshold.\n",
    "# modify these variables based on the 'predicted' amount missing from the iss\n",
    "# to get the minimum that must be sent up.\n",
    "fc = 500\n",
    "wp = 900\n",
    "tc = 400\n",
    "\n",
    "foodConstraint = m.add_constraint(foodAmount >=fc)\n",
    "waterConstraint = m.add_constraint(waterAmount >=wp)\n",
    "toilConstraint = m.add_constraint(toilAmount >=tc)"
   ]
  },
  {
   "cell_type": "code",
   "execution_count": 26,
   "metadata": {},
   "outputs": [],
   "source": [
    "# available area in the shuttle is limited.\n",
    "# chose 20,000 units\n",
    "totalAreaConstraint = m.add_constraint(m.sum([foodAmount*foodSpace, \n",
    "                                              waterAmount*waterSpace, \n",
    "                                              toilAmount*toilSpace]) <= 20000)"
   ]
  },
  {
   "cell_type": "markdown",
   "metadata": {},
   "source": [
    "# goal/obj"
   ]
  },
  {
   "cell_type": "code",
   "execution_count": 27,
   "metadata": {},
   "outputs": [],
   "source": [
    "m.maximize(foodAmount*foodSpace + waterAmount*waterSpace + toilAmount*toilSpace)"
   ]
  },
  {
   "cell_type": "code",
   "execution_count": 28,
   "metadata": {},
   "outputs": [
    {
     "name": "stdout",
     "output_type": "stream",
     "text": [
      "solution for: consumable ascension\n",
      "objective: 20000.000\n",
      "status: OPTIMAL_SOLUTION(2)\n",
      "food consumable = 500.000\n",
      "water potable = 900.000\n",
      "toiletries = 24928.571\n"
     ]
    }
   ],
   "source": [
    "sol = m.solve()\n",
    "sol.display()"
   ]
  },
  {
   "cell_type": "markdown",
   "metadata": {},
   "source": [
    "docplex just picks one variable to maximize while only choosing the bare minimum for the rest. seems random which variable it chooses as well."
   ]
  }
 ],
 "metadata": {
  "kernelspec": {
   "display_name": "venv",
   "language": "python",
   "name": "python3"
  },
  "language_info": {
   "codemirror_mode": {
    "name": "ipython",
    "version": 3
   },
   "file_extension": ".py",
   "mimetype": "text/x-python",
   "name": "python",
   "nbconvert_exporter": "python",
   "pygments_lexer": "ipython3",
   "version": "3.10.1"
  }
 },
 "nbformat": 4,
 "nbformat_minor": 2
}
