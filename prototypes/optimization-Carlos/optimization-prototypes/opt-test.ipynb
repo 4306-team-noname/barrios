{
 "cells": [
  {
   "cell_type": "code",
   "execution_count": 43,
   "metadata": {},
   "outputs": [],
   "source": [
    "from docplex.mp.model import Model\n",
    "m = Model(name='consumable ascension')"
   ]
  },
  {
   "cell_type": "markdown",
   "metadata": {},
   "source": [
    "#variables"
   ]
  },
  {
   "cell_type": "code",
   "execution_count": 44,
   "metadata": {},
   "outputs": [],
   "source": [
    "#consumable loading variables\n",
    "foodAmount = m.continuous_var(name='food consumable')\n",
    "waterAmount = m.continuous_var(name='water potable')"
   ]
  },
  {
   "cell_type": "code",
   "execution_count": 45,
   "metadata": {},
   "outputs": [],
   "source": [
    "#areaspace constants\n",
    "foodSpace = 1.5\n",
    "waterSpace = 2"
   ]
  },
  {
   "cell_type": "markdown",
   "metadata": {},
   "source": [
    "#constraints"
   ]
  },
  {
   "cell_type": "code",
   "execution_count": 46,
   "metadata": {},
   "outputs": [],
   "source": [
    "# consumables must not go below a certain threshold.\n",
    "# modify these variables based on the 'predicted' amount missing from the iss\n",
    "# to get the minimum that must be sent up.\n",
    "fc = 500\n",
    "wp = 900\n",
    "\n",
    "foodConstraint = m.add_constraint(foodAmount >=fc)\n",
    "waterConstraint = m.add_constraint(waterAmount >=wp)"
   ]
  },
  {
   "cell_type": "code",
   "execution_count": 47,
   "metadata": {},
   "outputs": [],
   "source": [
    "# available area in the shuttle is limited\n",
    "totalAreaConstraint = m.add_constraint(m.sum([foodAmount*foodSpace, waterAmount*waterSpace]) <= 20000)"
   ]
  },
  {
   "cell_type": "markdown",
   "metadata": {},
   "source": [
    "#goal/obj"
   ]
  },
  {
   "cell_type": "code",
   "execution_count": 48,
   "metadata": {},
   "outputs": [],
   "source": [
    "m.maximize(foodAmount*foodSpace + waterAmount*waterSpace)"
   ]
  },
  {
   "cell_type": "code",
   "execution_count": 49,
   "metadata": {},
   "outputs": [
    {
     "name": "stdout",
     "output_type": "stream",
     "text": [
      "solution for: consumable ascension\n",
      "objective: 20000.000\n",
      "status: OPTIMAL_SOLUTION(2)\n",
      "food consumable = 12133.333\n",
      "water potable = 900.000\n"
     ]
    }
   ],
   "source": [
    "sol = m.solve()\n",
    "sol.display()"
   ]
  }
 ],
 "metadata": {
  "kernelspec": {
   "display_name": "venv",
   "language": "python",
   "name": "python3"
  },
  "language_info": {
   "codemirror_mode": {
    "name": "ipython",
    "version": 3
   },
   "file_extension": ".py",
   "mimetype": "text/x-python",
   "name": "python",
   "nbconvert_exporter": "python",
   "pygments_lexer": "ipython3",
   "version": "3.10.1"
  }
 },
 "nbformat": 4,
 "nbformat_minor": 2
}
