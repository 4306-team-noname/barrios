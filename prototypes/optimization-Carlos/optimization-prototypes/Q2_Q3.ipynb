{
 "cells": [
  {
   "cell_type": "code",
   "execution_count": 113,
   "metadata": {},
   "outputs": [
    {
     "name": "stdout",
     "output_type": "stream",
     "text": [
      "number of daays til next dock\n",
      " [4, 25, 22, 18, 24, 13, 43, 67, 15, 22, 12, 18, 76, 15, 5, 13, 67, 2, 13, 59, 21, 2, 19, 48, 29, 41, 10, 10, 17, 2, 15, 8, 30, 22, 7, 22, 29, 35, 16, 6, 14, 9, 44, 33, 4, 22, 1, 34, 3, 19, 17, 62, 4, 27, 48, 2, 29, 7, 25, 28, 25, 25]\n"
     ]
    }
   ],
   "source": [
    "import pandas as pd\n",
    "import datetime as dt\n",
    "\n",
    "#grab flight plan\n",
    "flight_plan = pd.read_csv(r'C:\\Users\\cicic\\OneDrive\\Desktop\\Barrios_Project\\barrios\\iss-data\\csv\\iss_flight_plan_20220101-20251231.csv')\n",
    "\n",
    "#query to only use dates where the event is dock and convert it to a list\n",
    "dock_days_list = flight_plan[flight_plan['event'] == 'Dock']['datedim'].to_list()\n",
    "\n",
    "#convert list of date strings into a list of datetime objects\n",
    "dates_list = [dt.datetime.strptime(date, '%m/%d/%Y').date() for date in dock_days_list]\n",
    "\n",
    "#print the days difference between each date\n",
    "num_days = pd.Series(dates_list).diff().dt.days.iloc[1:].astype(int).tolist()\n",
    "print(\"number of daays til next dock\\n\",num_days)\n",
    "\n",
    "\n"
   ]
  },
  {
   "cell_type": "code",
   "execution_count": 114,
   "metadata": {},
   "outputs": [
    {
     "name": "stdout",
     "output_type": "stream",
     "text": [
      "number of crew per docking\n",
      " [7, 7, 10, 11, 11, 7, 7, 7, 10, 11, 7, 7, 7, 7, 7, 11, 7, 11, 11, 7, 7, 7, 11, 10, 7, 7, 11, 11, 7, 7, 11, 7, 10, 9, 7, 11, 7, 7, 11, 7, 7, 10, 10, 11, 7, 7, 7, 7, 7, 11, 7, 10, 11, 11, 7, 7, 11, 7, 10, 7, 7, 11, 7]\n"
     ]
    }
   ],
   "source": [
    "#grab crew members per dock\n",
    "crewF = pd.read_csv(r'C:\\Users\\cicic\\OneDrive\\Desktop\\Barrios_Project\\barrios\\iss-data\\csv\\iss_flight_plan_crew_20220101-20251321.csv')\n",
    "\n",
    "crew_per_dock = []\n",
    "\n",
    "for i, date in enumerate(dock_days_list):\n",
    "    crewNum = crewF[crewF['datedim'] == date]['crew_count'].tolist()\n",
    "    Amount = sum(crewNum)\n",
    "    crew_per_dock.append(Amount)\n",
    "\n",
    "#number of crew members on board during each dock\n",
    "print(\"number of crew per docking\\n\",crew_per_dock)\n"
   ]
  },
  {
   "cell_type": "code",
   "execution_count": 115,
   "metadata": {},
   "outputs": [
    {
     "name": "stdout",
     "output_type": "stream",
     "text": [
      "['Liters/Day', 'Liters/Crew/Day', 'Liters/Crew/Day', 'Liters/Day']\n",
      "[1.0, 2.84, 2.5, 10.5]\n",
      "------------\n",
      "[1.0, 10.5]\n",
      "[2.84, 2.5]\n",
      "11.5\n",
      "5.34\n"
     ]
    }
   ],
   "source": [
    "#grab rates\n",
    "rater = pd.read_csv(r'C:\\Users\\cicic\\OneDrive\\Desktop\\Barrios_Project\\barrios\\iss-data\\csv\\rates_definition.csv')\n",
    "\n",
    "\n",
    "#consumable must match a consumable on the rates csv. case sensitive.\n",
    "consumable = 'Pretreat Tanks'\n",
    "consumable = 'Air'\n",
    "consumable = 'Water'\n",
    "\n",
    "\n",
    "#sum of generated\n",
    "sum_generated = sum(rater[(rater['affected_consumable'] == consumable) & (rater['type'] == 'generation')]['rate'].to_list())\n",
    "\n",
    "#grabs the usage rates of consumable\n",
    "usage_list = rater[(rater['affected_consumable'] == consumable) & (rater['type'] == 'usage')]['rate'].to_list()\n",
    "\n",
    "#if units contains 'crew'\n",
    "crew_check = rater[(rater['affected_consumable'] == consumable) & (rater['type'] == 'usage')]['units'].tolist()\n",
    "\n",
    "sum_usage_list = []\n",
    "sum_usage_crew_list = []\n",
    "\n",
    "for i, j in enumerate(crew_check):\n",
    "    if j.find('Crew') != -1:\n",
    "        sum_usage_crew_list.append(usage_list[i])\n",
    "    else:\n",
    "        sum_usage_list.append(usage_list[i])\n",
    "\n",
    "\n",
    "\n",
    "sum_usage = sum(sum_usage_list)\n",
    "sum_usage_crew = sum(sum_usage_crew_list)\n",
    "\n",
    "print(crew_check)\n",
    "print(usage_list)\n",
    "print('------------')\n",
    "print(sum_usage_list)\n",
    "print(sum_usage_crew_list)\n",
    "print(sum_usage)\n",
    "print(sum_usage_crew)\n",
    "\n",
    "\n",
    "\n"
   ]
  },
  {
   "cell_type": "code",
   "execution_count": 116,
   "metadata": {},
   "outputs": [
    {
     "name": "stdout",
     "output_type": "stream",
     "text": [
      "[101, 633, 910, 840, 1121, 329, 1089, 1697, 621, 1027, 304, 456, 1925, 380, 126, 607, 1697, 94, 607, 1494, 532, 51, 887, 1985, 734, 1039, 467, 467, 430, 51, 700, 203, 1240, 793, 177, 1027, 735, 886, 747, 152, 355, 372, 1819, 1541, 102, 557, 25, 861, 76, 887, 431, 2564, 187, 1260, 1216, 51, 1354, 177, 1034, 709, 633, 1167]\n"
     ]
    }
   ],
   "source": [
    "import math\n",
    "\n",
    "#create a list of base rates \n",
    "listofrates = [sum_usage] * ((len(dock_days_list)) -1)\n",
    "listofrates_crew = []\n",
    "consumable_to_send = []\n",
    "current_sum = 0\n",
    "res_list = []\n",
    "\n",
    "for i in range(0, len(listofrates)):\n",
    "    listofrates_crew.append(crew_per_dock[i] * sum_usage_crew)\n",
    "\n",
    "for i in range(0, len(listofrates)):\n",
    "    res_list.append(((listofrates[i] + listofrates_crew[i]) - sum_generated) * num_days[i])\n",
    "\n",
    "\n",
    "#rounding\n",
    "for i, value in enumerate(res_list):\n",
    "    current_sum+=value\n",
    "    consumable_to_send.append(math.trunc(current_sum))\n",
    "    current_sum = current_sum - math.trunc(current_sum)\n",
    "print(consumable_to_send)\n",
    "    \n"
   ]
  },
  {
   "cell_type": "code",
   "execution_count": 117,
   "metadata": {},
   "outputs": [
    {
     "data": {
      "text/html": [
       "<div>\n",
       "<style scoped>\n",
       "    .dataframe tbody tr th:only-of-type {\n",
       "        vertical-align: middle;\n",
       "    }\n",
       "\n",
       "    .dataframe tbody tr th {\n",
       "        vertical-align: top;\n",
       "    }\n",
       "\n",
       "    .dataframe thead th {\n",
       "        text-align: right;\n",
       "    }\n",
       "</style>\n",
       "<table border=\"1\" class=\"dataframe\">\n",
       "  <thead>\n",
       "    <tr style=\"text-align: right;\">\n",
       "      <th></th>\n",
       "      <th>Docking Days</th>\n",
       "      <th>Amount of Consumable to Send</th>\n",
       "    </tr>\n",
       "  </thead>\n",
       "  <tbody>\n",
       "    <tr>\n",
       "      <th>0</th>\n",
       "      <td>2/17/2022</td>\n",
       "      <td>101</td>\n",
       "    </tr>\n",
       "    <tr>\n",
       "      <th>1</th>\n",
       "      <td>2/21/2022</td>\n",
       "      <td>633</td>\n",
       "    </tr>\n",
       "    <tr>\n",
       "      <th>2</th>\n",
       "      <td>3/18/2022</td>\n",
       "      <td>910</td>\n",
       "    </tr>\n",
       "    <tr>\n",
       "      <th>3</th>\n",
       "      <td>4/9/2022</td>\n",
       "      <td>840</td>\n",
       "    </tr>\n",
       "    <tr>\n",
       "      <th>4</th>\n",
       "      <td>4/27/2022</td>\n",
       "      <td>1121</td>\n",
       "    </tr>\n",
       "    <tr>\n",
       "      <th>...</th>\n",
       "      <td>...</td>\n",
       "      <td>...</td>\n",
       "    </tr>\n",
       "    <tr>\n",
       "      <th>57</th>\n",
       "      <td>9/3/2025</td>\n",
       "      <td>177</td>\n",
       "    </tr>\n",
       "    <tr>\n",
       "      <th>58</th>\n",
       "      <td>9/10/2025</td>\n",
       "      <td>1034</td>\n",
       "    </tr>\n",
       "    <tr>\n",
       "      <th>59</th>\n",
       "      <td>10/5/2025</td>\n",
       "      <td>709</td>\n",
       "    </tr>\n",
       "    <tr>\n",
       "      <th>60</th>\n",
       "      <td>11/2/2025</td>\n",
       "      <td>633</td>\n",
       "    </tr>\n",
       "    <tr>\n",
       "      <th>61</th>\n",
       "      <td>11/27/2025</td>\n",
       "      <td>1167</td>\n",
       "    </tr>\n",
       "  </tbody>\n",
       "</table>\n",
       "<p>62 rows × 2 columns</p>\n",
       "</div>"
      ],
      "text/plain": [
       "   Docking Days  Amount of Consumable to Send\n",
       "0     2/17/2022                           101\n",
       "1     2/21/2022                           633\n",
       "2     3/18/2022                           910\n",
       "3      4/9/2022                           840\n",
       "4     4/27/2022                          1121\n",
       "..          ...                           ...\n",
       "57     9/3/2025                           177\n",
       "58    9/10/2025                          1034\n",
       "59    10/5/2025                           709\n",
       "60    11/2/2025                           633\n",
       "61   11/27/2025                          1167\n",
       "\n",
       "[62 rows x 2 columns]"
      ]
     },
     "metadata": {},
     "output_type": "display_data"
    }
   ],
   "source": [
    "##RUN ALL or this wont work\n",
    "dock_days_list.pop()\n",
    "\n",
    "readable = pd.DataFrame(\n",
    "    {'Docking Days': dock_days_list,\n",
    "     'Amount of Consumable to Send': consumable_to_send\n",
    "    })\n",
    "\n",
    "display(readable)"
   ]
  }
 ],
 "metadata": {
  "kernelspec": {
   "display_name": "Python 3 (ipykernel)",
   "language": "python",
   "name": "python3"
  },
  "language_info": {
   "codemirror_mode": {
    "name": "ipython",
    "version": 3
   },
   "file_extension": ".py",
   "mimetype": "text/x-python",
   "name": "python",
   "nbconvert_exporter": "python",
   "pygments_lexer": "ipython3",
   "version": "3.11.5"
  }
 },
 "nbformat": 4,
 "nbformat_minor": 4
}
