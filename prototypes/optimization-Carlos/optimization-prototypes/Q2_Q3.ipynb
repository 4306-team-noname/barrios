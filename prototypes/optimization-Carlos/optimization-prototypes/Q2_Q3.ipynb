{
 "cells": [
  {
   "cell_type": "code",
   "execution_count": 153,
   "metadata": {},
   "outputs": [
    {
     "name": "stdout",
     "output_type": "stream",
     "text": [
      "[4, 25, 22, 18, 24, 13, 43, 67, 15, 22, 12, 18, 76, 15, 5, 13, 67, 2, 13, 59, 21, 2, 19, 48, 29, 41, 10, 10, 17, 2, 15, 8, 30, 22, 7, 22, 29, 35, 16, 6, 14, 9, 44, 33, 4, 22, 1, 34, 3, 19, 17, 62, 4, 27, 48, 2, 29, 7, 25, 28, 25, 25]\n"
     ]
    }
   ],
   "source": [
    "import pandas as pd\n",
    "import datetime as dt\n",
    "\n",
    "#grab flight plan\n",
    "flight_plan = pd.read_csv(r'C:\\Users\\cicic\\OneDrive\\Desktop\\Barrios_Project\\barrios\\iss-data\\csv\\iss_flight_plan_20220101-20251231.csv')\n",
    "\n",
    "#query to only use dates where the event is dock and convert it to a list\n",
    "dock_days_list = flight_plan[flight_plan['event'] == 'Dock']['datedim'].to_list()\n",
    "\n",
    "#convert list of date strings into a list of datetime objects\n",
    "dates_list = [dt.datetime.strptime(date, '%m/%d/%Y').date() for date in dock_days_list]\n",
    "\n",
    "#print the days difference between each date\n",
    "num_days = pd.Series(dates_list).diff().dt.days.iloc[1:].astype(int).tolist()\n",
    "print(num_days)\n",
    "\n",
    "\n"
   ]
  },
  {
   "cell_type": "code",
   "execution_count": 154,
   "metadata": {},
   "outputs": [
    {
     "name": "stdout",
     "output_type": "stream",
     "text": [
      "[7, 7, 10, 11, 11, 7, 7, 7, 10, 11, 7, 7, 7, 7, 7, 11, 7, 11, 11, 7, 7, 7, 11, 10, 7, 7, 11, 11, 7, 7, 11, 7, 10, 9, 7, 11, 7, 7, 11, 7, 7, 10, 10, 11, 7, 7, 7, 7, 7, 11, 7, 10, 11, 11, 7, 7, 11, 7, 10, 7, 7, 11, 7]\n"
     ]
    }
   ],
   "source": [
    "#grab crew members per dock\n",
    "crewF = pd.read_csv(r'C:\\Users\\cicic\\OneDrive\\Desktop\\Barrios_Project\\barrios\\iss-data\\csv\\iss_flight_plan_crew_20220101-20251321.csv')\n",
    "\n",
    "crew_per_dock = []\n",
    "\n",
    "for i, date in enumerate(dock_days_list):\n",
    "    crewNum = crewF[crewF['datedim'] == date]['crew_count'].tolist()\n",
    "    Amount = sum(crewNum)\n",
    "    crew_per_dock.append(Amount)\n",
    "\n",
    "#number of crew members on board during each dock\n",
    "print(crew_per_dock)\n"
   ]
  },
  {
   "cell_type": "code",
   "execution_count": 155,
   "metadata": {},
   "outputs": [
    {
     "name": "stdout",
     "output_type": "stream",
     "text": [
      "Liters/Day\tLiters/Crew/Day\tLiters/Crew/Day\tLiters/Day\tLiters/Day\tLiters/Day\tLiters/Day\n",
      "Consumable used =  16.84\n",
      "Consumable generated =  23.549999999999997\n",
      "net consumable per day=  6.709999999999997\n"
     ]
    }
   ],
   "source": [
    "#grab rates\n",
    "rater = pd.read_csv(r'C:\\Users\\cicic\\OneDrive\\Desktop\\Barrios_Project\\barrios\\iss-data\\csv\\rates_definition.csv')\n",
    "\n",
    "\n",
    "#consumable must match a consumable on the rates csv. case sensitive.\n",
    "consumable = 'Pretreat Tanks'\n",
    "consumable = 'Water'\n",
    "\n",
    "\n",
    "#sum of generated\n",
    "sum_generated = sum(rater[(rater['affected_consumable'] == consumable) & (rater['type'] == 'generation')]['rate'].to_list())\n",
    "\n",
    "#grabs the usage rate of consumable and sums it up\n",
    "sum_usage = sum(rater[(rater['affected_consumable'] == consumable) & (rater['type'] == 'usage')]['rate'].to_list())\n",
    "\n",
    "#if units contains \"/crew\" then do something else\n",
    "crew_check = rater[rater['affected_consumable'] == consumable]['units'].tolist()\n",
    "combine =  '\\t'.join(crew_check)\n",
    "print(combine)\n",
    "\n",
    "\n",
    "\n",
    "#prints\n",
    "print(\"Consumable used = \", sum_usage)\n",
    "print(\"Consumable generated = \", sum_generated)\n",
    "net_consumable = sum_generated - sum_usage\n",
    "print(\"net consumable per day= \", net_consumable)\n",
    "\n"
   ]
  },
  {
   "cell_type": "code",
   "execution_count": 156,
   "metadata": {},
   "outputs": [
    {
     "name": "stdout",
     "output_type": "stream",
     "text": [
      "[-26, -167, -147, -120, -161, -87, -288, -449, -100, -147, -80, -120, -509, -100, -33, -87, -449, -13, -87, -395, -140, -13, -127, -322, -194, -275, -67, -67, -114, -13, -100, -53, -201, -147, -46, -147, -194, -234, -107, -40, -93, -60, -295, -221, -26, -147, -6, -228, -20, -127, -114, -416, -26, -181, -322, -13, -194, -46, -167, -187, -167, -167]\n"
     ]
    }
   ],
   "source": [
    "import math\n",
    "rate = -(net_consumable)\n",
    "\n",
    "raw_to_send = [i * rate for i in num_days]\n",
    "consumable_to_send = []\n",
    "current_sum = 0\n",
    "\n",
    "if(1==1): #if crewcheck != /crew\n",
    "    #if the rate of depletion is less than 1 unit per day then we send just 1 unit on certain shipments\n",
    "    if rate < 1 and rate > 0:\n",
    "        for i, value in enumerate(raw_to_send):\n",
    "            current_sum+= value\n",
    "            if current_sum < 1:\n",
    "                consumable_to_send.append(0)\n",
    "            else:\n",
    "                consumable_to_send.append(1)\n",
    "                current_sum = 0\n",
    "        print(consumable_to_send)\n",
    "    else:\n",
    "        #otherwise we take the raw and round up\n",
    "        consumable_to_send = [math.ceil(i * rate) for i in num_days]\n",
    "        print(consumable_to_send)\n",
    "else: #do some crazy work\n",
    "    print (\"jello\")\n"
   ]
  },
  {
   "cell_type": "code",
   "execution_count": 157,
   "metadata": {},
   "outputs": [
    {
     "data": {
      "text/html": [
       "<div>\n",
       "<style scoped>\n",
       "    .dataframe tbody tr th:only-of-type {\n",
       "        vertical-align: middle;\n",
       "    }\n",
       "\n",
       "    .dataframe tbody tr th {\n",
       "        vertical-align: top;\n",
       "    }\n",
       "\n",
       "    .dataframe thead th {\n",
       "        text-align: right;\n",
       "    }\n",
       "</style>\n",
       "<table border=\"1\" class=\"dataframe\">\n",
       "  <thead>\n",
       "    <tr style=\"text-align: right;\">\n",
       "      <th></th>\n",
       "      <th>Docking Days</th>\n",
       "      <th>Amount of Consumable to Send</th>\n",
       "    </tr>\n",
       "  </thead>\n",
       "  <tbody>\n",
       "    <tr>\n",
       "      <th>0</th>\n",
       "      <td>2/17/2022</td>\n",
       "      <td>-26</td>\n",
       "    </tr>\n",
       "    <tr>\n",
       "      <th>1</th>\n",
       "      <td>2/21/2022</td>\n",
       "      <td>-167</td>\n",
       "    </tr>\n",
       "    <tr>\n",
       "      <th>2</th>\n",
       "      <td>3/18/2022</td>\n",
       "      <td>-147</td>\n",
       "    </tr>\n",
       "    <tr>\n",
       "      <th>3</th>\n",
       "      <td>4/9/2022</td>\n",
       "      <td>-120</td>\n",
       "    </tr>\n",
       "    <tr>\n",
       "      <th>4</th>\n",
       "      <td>4/27/2022</td>\n",
       "      <td>-161</td>\n",
       "    </tr>\n",
       "    <tr>\n",
       "      <th>...</th>\n",
       "      <td>...</td>\n",
       "      <td>...</td>\n",
       "    </tr>\n",
       "    <tr>\n",
       "      <th>57</th>\n",
       "      <td>9/3/2025</td>\n",
       "      <td>-46</td>\n",
       "    </tr>\n",
       "    <tr>\n",
       "      <th>58</th>\n",
       "      <td>9/10/2025</td>\n",
       "      <td>-167</td>\n",
       "    </tr>\n",
       "    <tr>\n",
       "      <th>59</th>\n",
       "      <td>10/5/2025</td>\n",
       "      <td>-187</td>\n",
       "    </tr>\n",
       "    <tr>\n",
       "      <th>60</th>\n",
       "      <td>11/2/2025</td>\n",
       "      <td>-167</td>\n",
       "    </tr>\n",
       "    <tr>\n",
       "      <th>61</th>\n",
       "      <td>11/27/2025</td>\n",
       "      <td>-167</td>\n",
       "    </tr>\n",
       "  </tbody>\n",
       "</table>\n",
       "<p>62 rows × 2 columns</p>\n",
       "</div>"
      ],
      "text/plain": [
       "   Docking Days  Amount of Consumable to Send\n",
       "0     2/17/2022                           -26\n",
       "1     2/21/2022                          -167\n",
       "2     3/18/2022                          -147\n",
       "3      4/9/2022                          -120\n",
       "4     4/27/2022                          -161\n",
       "..          ...                           ...\n",
       "57     9/3/2025                           -46\n",
       "58    9/10/2025                          -167\n",
       "59    10/5/2025                          -187\n",
       "60    11/2/2025                          -167\n",
       "61   11/27/2025                          -167\n",
       "\n",
       "[62 rows x 2 columns]"
      ]
     },
     "metadata": {},
     "output_type": "display_data"
    }
   ],
   "source": [
    "##RUN ALL or this wont work\n",
    "dock_days_list.pop()\n",
    "\n",
    "readable = pd.DataFrame(\n",
    "    {'Docking Days': dock_days_list,\n",
    "     'Amount of Consumable to Send': consumable_to_send\n",
    "    })\n",
    "\n",
    "display(readable)"
   ]
  }
 ],
 "metadata": {
  "kernelspec": {
   "display_name": "venv",
   "language": "python",
   "name": "python3"
  },
  "language_info": {
   "codemirror_mode": {
    "name": "ipython",
    "version": 3
   },
   "file_extension": ".py",
   "mimetype": "text/x-python",
   "name": "python",
   "nbconvert_exporter": "python",
   "pygments_lexer": "ipython3",
   "version": "3.10.1"
  }
 },
 "nbformat": 4,
 "nbformat_minor": 2
}
