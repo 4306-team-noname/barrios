{
 "cells": [
  {
   "cell_type": "code",
   "execution_count": 10,
   "metadata": {},
   "outputs": [
    {
     "ename": "ValueError",
     "evalue": "Dataframe must have columns \"ds\" and \"y\" with the dates and values respectively.",
     "output_type": "error",
     "traceback": [
      "\u001b[1;31m---------------------------------------------------------------------------\u001b[0m",
      "\u001b[1;31mValueError\u001b[0m                                Traceback (most recent call last)",
      "\u001b[1;32mc:\\Users\\cicic\\OneDrive\\Desktop\\Barrios_Project\\barrios\\prototypes\\optimization-Carlos\\predictPlot.ipynb Cell 1\u001b[0m line \u001b[0;36m8\n\u001b[0;32m      <a href='vscode-notebook-cell:/c%3A/Users/cicic/OneDrive/Desktop/Barrios_Project/barrios/prototypes/optimization-Carlos/predictPlot.ipynb#W0sZmlsZQ%3D%3D?line=4'>5</a>\u001b[0m df \u001b[39m=\u001b[39m pd\u001b[39m.\u001b[39mread_csv(\u001b[39mr\u001b[39m\u001b[39m'\u001b[39m\u001b[39mC:\u001b[39m\u001b[39m\\\u001b[39m\u001b[39mUsers\u001b[39m\u001b[39m\\\u001b[39m\u001b[39mcicic\u001b[39m\u001b[39m\\\u001b[39m\u001b[39mOneDrive\u001b[39m\u001b[39m\\\u001b[39m\u001b[39mDesktop\u001b[39m\u001b[39m\\\u001b[39m\u001b[39mBarrios_Project\u001b[39m\u001b[39m\\\u001b[39m\u001b[39mbarrios\u001b[39m\u001b[39m\\\u001b[39m\u001b[39miss-data\u001b[39m\u001b[39m\\\u001b[39m\u001b[39mcsv\u001b[39m\u001b[39m\\\u001b[39m\u001b[39mprophet_2cols\u001b[39m\u001b[39m\\\u001b[39m\u001b[39mus_weekly_consumable_water_summary_20220102-20230903_d_2col.csv\u001b[39m\u001b[39m'\u001b[39m)\n\u001b[0;32m      <a href='vscode-notebook-cell:/c%3A/Users/cicic/OneDrive/Desktop/Barrios_Project/barrios/prototypes/optimization-Carlos/predictPlot.ipynb#W0sZmlsZQ%3D%3D?line=6'>7</a>\u001b[0m m \u001b[39m=\u001b[39m Prophet()\n\u001b[1;32m----> <a href='vscode-notebook-cell:/c%3A/Users/cicic/OneDrive/Desktop/Barrios_Project/barrios/prototypes/optimization-Carlos/predictPlot.ipynb#W0sZmlsZQ%3D%3D?line=7'>8</a>\u001b[0m m\u001b[39m.\u001b[39;49mfit(df)\n",
      "File \u001b[1;32mc:\\Users\\cicic\\OneDrive\\Desktop\\Barrios_Project\\venv\\lib\\site-packages\\prophet\\forecaster.py:1217\u001b[0m, in \u001b[0;36mProphet.fit\u001b[1;34m(self, df, **kwargs)\u001b[0m\n\u001b[0;32m   1213\u001b[0m \u001b[39mif\u001b[39;00m \u001b[39mself\u001b[39m\u001b[39m.\u001b[39mhistory \u001b[39mis\u001b[39;00m \u001b[39mnot\u001b[39;00m \u001b[39mNone\u001b[39;00m:\n\u001b[0;32m   1214\u001b[0m     \u001b[39mraise\u001b[39;00m \u001b[39mException\u001b[39;00m(\u001b[39m'\u001b[39m\u001b[39mProphet object can only be fit once. \u001b[39m\u001b[39m'\u001b[39m\n\u001b[0;32m   1215\u001b[0m                     \u001b[39m'\u001b[39m\u001b[39mInstantiate a new object.\u001b[39m\u001b[39m'\u001b[39m)\n\u001b[1;32m-> 1217\u001b[0m model_inputs \u001b[39m=\u001b[39m \u001b[39mself\u001b[39m\u001b[39m.\u001b[39mpreprocess(df, \u001b[39m*\u001b[39m\u001b[39m*\u001b[39mkwargs)\n\u001b[0;32m   1218\u001b[0m initial_params \u001b[39m=\u001b[39m \u001b[39mself\u001b[39m\u001b[39m.\u001b[39mcalculate_initial_params(model_inputs\u001b[39m.\u001b[39mK)\n\u001b[0;32m   1220\u001b[0m dat \u001b[39m=\u001b[39m dataclasses\u001b[39m.\u001b[39masdict(model_inputs)\n",
      "File \u001b[1;32mc:\\Users\\cicic\\OneDrive\\Desktop\\Barrios_Project\\venv\\lib\\site-packages\\prophet\\forecaster.py:1126\u001b[0m, in \u001b[0;36mProphet.preprocess\u001b[1;34m(self, df, **kwargs)\u001b[0m\n\u001b[0;32m   1119\u001b[0m \u001b[39m\u001b[39m\u001b[39m\"\"\"\u001b[39;00m\n\u001b[0;32m   1120\u001b[0m \u001b[39mReformats historical data, standardizes y and extra regressors, sets seasonalities and changepoints.\u001b[39;00m\n\u001b[0;32m   1121\u001b[0m \n\u001b[0;32m   1122\u001b[0m \u001b[39mSaves the preprocessed data to the instantiated object, and also returns the relevant components\u001b[39;00m\n\u001b[0;32m   1123\u001b[0m \u001b[39mas a ModelInputData object.\u001b[39;00m\n\u001b[0;32m   1124\u001b[0m \u001b[39m\"\"\"\u001b[39;00m\n\u001b[0;32m   1125\u001b[0m \u001b[39mif\u001b[39;00m (\u001b[39m'\u001b[39m\u001b[39mds\u001b[39m\u001b[39m'\u001b[39m \u001b[39mnot\u001b[39;00m \u001b[39min\u001b[39;00m df) \u001b[39mor\u001b[39;00m (\u001b[39m'\u001b[39m\u001b[39my\u001b[39m\u001b[39m'\u001b[39m \u001b[39mnot\u001b[39;00m \u001b[39min\u001b[39;00m df):\n\u001b[1;32m-> 1126\u001b[0m     \u001b[39mraise\u001b[39;00m \u001b[39mValueError\u001b[39;00m(\n\u001b[0;32m   1127\u001b[0m         \u001b[39m'\u001b[39m\u001b[39mDataframe must have columns \u001b[39m\u001b[39m\"\u001b[39m\u001b[39mds\u001b[39m\u001b[39m\"\u001b[39m\u001b[39m and \u001b[39m\u001b[39m\"\u001b[39m\u001b[39my\u001b[39m\u001b[39m\"\u001b[39m\u001b[39m with the dates and \u001b[39m\u001b[39m'\u001b[39m\n\u001b[0;32m   1128\u001b[0m         \u001b[39m'\u001b[39m\u001b[39mvalues respectively.\u001b[39m\u001b[39m'\u001b[39m\n\u001b[0;32m   1129\u001b[0m     )\n\u001b[0;32m   1130\u001b[0m history \u001b[39m=\u001b[39m df[df[\u001b[39m'\u001b[39m\u001b[39my\u001b[39m\u001b[39m'\u001b[39m]\u001b[39m.\u001b[39mnotnull()]\u001b[39m.\u001b[39mcopy()\n\u001b[0;32m   1131\u001b[0m \u001b[39mif\u001b[39;00m history\u001b[39m.\u001b[39mshape[\u001b[39m0\u001b[39m] \u001b[39m<\u001b[39m \u001b[39m2\u001b[39m:\n",
      "\u001b[1;31mValueError\u001b[0m: Dataframe must have columns \"ds\" and \"y\" with the dates and values respectively."
     ]
    }
   ],
   "source": [
    "import pandas as pd\n",
    "\n",
    "from prophet import Prophet\n",
    "\n",
    "df = pd.read_csv(r'C:\\Users\\cicic\\OneDrive\\Desktop\\Barrios_Project\\barrios\\iss-data\\csv\\prophet_2cols\\us_weekly_consumable_water_summary_20220102-20230903_d_2col.csv')\n",
    "\n",
    "m = Prophet()\n",
    "## doesnt work since date and value columns MUST be renamed to \"ds\" and \"y\" \n",
    "#m.fit(df)"
   ]
  }
 ],
 "metadata": {
  "kernelspec": {
   "display_name": "venv",
   "language": "python",
   "name": "python3"
  },
  "language_info": {
   "codemirror_mode": {
    "name": "ipython",
    "version": 3
   },
   "file_extension": ".py",
   "mimetype": "text/x-python",
   "name": "python",
   "nbconvert_exporter": "python",
   "pygments_lexer": "ipython3",
   "version": "3.10.1"
  }
 },
 "nbformat": 4,
 "nbformat_minor": 2
}
