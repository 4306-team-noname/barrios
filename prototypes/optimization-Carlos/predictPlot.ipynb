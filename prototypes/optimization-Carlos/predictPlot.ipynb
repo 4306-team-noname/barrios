{
 "cells": [
  {
   "cell_type": "code",
   "execution_count": 11,
   "metadata": {},
   "outputs": [
    {
     "data": {
      "text/plain": [
       "Index(['Date', 'Corrected Potable (L)'], dtype='object')"
      ]
     },
     "execution_count": 11,
     "metadata": {},
     "output_type": "execute_result"
    }
   ],
   "source": [
    "import pandas as pd\n",
    "\n",
    "from prophet import Prophet\n",
    "\n",
    "df = pd.read_csv(r'C:\\Users\\cicic\\OneDrive\\Desktop\\Barrios_Project\\barrios\\iss-data\\csv\\prophet_2cols\\us_weekly_consumable_water_summary_20220102-20230903_d_2col.csv')\n",
    "\n",
    "df.rename(columns={\"Date\": \"ds\", \"Corrected Potable\": \"y\"})\n",
    "df.columns\n",
    "          \n",
    "#m = Prophet()\n",
    "## doesnt work since date and value columns MUST be renamed to \"ds\" and \"y\" \n",
    "#m.fit(df)"
   ]
  }
 ],
 "metadata": {
  "kernelspec": {
   "display_name": "venv",
   "language": "python",
   "name": "python3"
  },
  "language_info": {
   "codemirror_mode": {
    "name": "ipython",
    "version": 3
   },
   "file_extension": ".py",
   "mimetype": "text/x-python",
   "name": "python",
   "nbconvert_exporter": "python",
   "pygments_lexer": "ipython3",
   "version": "3.10.1"
  }
 },
 "nbformat": 4,
 "nbformat_minor": 2
}
