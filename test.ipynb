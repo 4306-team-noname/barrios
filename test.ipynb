{
 "cells": [
  {
   "cell_type": "markdown",
   "id": "f2b82cfe-8630-4d2b-9f7e-ec0146b50f57",
   "metadata": {},
   "source": [
    "The first order of business is to match the columns of a given `csv` file to the column names stored in a data dictionary."
   ]
  },
  {
   "cell_type": "code",
   "execution_count": 1,
   "id": "6ed3de91-2d79-40b4-a45d-370e9cbe64de",
   "metadata": {},
   "outputs": [],
   "source": [
    "import pandas as pd"
   ]
  },
  {
   "cell_type": "code",
   "execution_count": 2,
   "id": "068eb531-7580-45c2-949b-5f84c75a5f5e",
   "metadata": {},
   "outputs": [],
   "source": [
    "import os"
   ]
  },
  {
   "cell_type": "code",
   "execution_count": 3,
   "id": "95723494-9f2d-4f8c-96f3-0352250b5662",
   "metadata": {},
   "outputs": [],
   "source": [
    "import json"
   ]
  },
  {
   "cell_type": "code",
   "execution_count": 4,
   "id": "4f802c08-49d3-4de7-83ac-62766a8ef66d",
   "metadata": {},
   "outputs": [],
   "source": [
    "import numpy as np"
   ]
  },
  {
   "cell_type": "code",
   "execution_count": 27,
   "id": "4c1e6646-0ea1-4ab5-8734-06c36719d9d6",
   "metadata": {},
   "outputs": [],
   "source": [
    "from pandas.core.arrays.floating import Float64Dtype\n",
    "from pandas.core.arrays.integer import Int64Dtype\n",
    "from pandas.core.arrays.string_ import StringDtype"
   ]
  },
  {
   "cell_type": "code",
   "execution_count": 5,
   "id": "426e0e7d-0c1f-4bb0-8e89-e0fecf6aa653",
   "metadata": {},
   "outputs": [
    {
     "data": {
      "text/plain": [
       "'/home/trainingmontage/dev/projects/barrios'"
      ]
     },
     "execution_count": 5,
     "metadata": {},
     "output_type": "execute_result"
    }
   ],
   "source": [
    "os.getcwd()"
   ]
  },
  {
   "cell_type": "code",
   "execution_count": 13,
   "id": "8104265e-a59f-43b2-9d7b-b35ff07c907e",
   "metadata": {},
   "outputs": [],
   "source": [
    "table_name = None"
   ]
  },
  {
   "cell_type": "code",
   "execution_count": 6,
   "id": "3bd531a3-534e-456a-8176-84aa4e524fda",
   "metadata": {},
   "outputs": [],
   "source": [
    "df = pd.read_csv('./iss-data/csv/stored_items_only_inventory_mgmt_system_consumables_20220101-20230905.csv')"
   ]
  },
  {
   "cell_type": "code",
   "execution_count": 7,
   "id": "087703eb-6d88-430b-b37f-5b3ded70f31f",
   "metadata": {},
   "outputs": [],
   "source": [
    "dfcols = df.columns.to_numpy()"
   ]
  },
  {
   "cell_type": "code",
   "execution_count": 8,
   "id": "eb641b9f-7241-47b0-884c-b0c87a254e8d",
   "metadata": {},
   "outputs": [],
   "source": [
    "with open('./src/lib/data_dictionary.json') as json_file:\n",
    "    data_dictionary = json.load(json_file)"
   ]
  },
  {
   "cell_type": "code",
   "execution_count": 14,
   "id": "2af4ad3d-e0e1-45fb-afc5-b3a3ac7e42b0",
   "metadata": {},
   "outputs": [
    {
     "name": "stdout",
     "output_type": "stream",
     "text": [
      "CSV file matches inventory_mgmt_system_consumables\n"
     ]
    }
   ],
   "source": [
    "for key in data_dictionary.keys():\n",
    "    np_arr = np.asarray(data_dictionary[key])\n",
    "    matches = np.array_equal(np_arr, dfcols)\n",
    "    if matches == True:\n",
    "        print(f'CSV file matches {key}')\n",
    "        table_name = key"
   ]
  },
  {
   "cell_type": "code",
   "execution_count": 15,
   "id": "bf2bed5c-1ceb-428a-9e4a-ce205d5fe6b7",
   "metadata": {},
   "outputs": [
    {
     "data": {
      "text/plain": [
       "'inventory_mgmt_system_consumables'"
      ]
     },
     "execution_count": 15,
     "metadata": {},
     "output_type": "execute_result"
    }
   ],
   "source": [
    "table_name"
   ]
  },
  {
   "cell_type": "markdown",
   "id": "3980584b-7682-42f8-89cc-25fa1fdc5ddc",
   "metadata": {},
   "source": [
    "Okay, we've successfully matched column names. Now we need to find a way to figure out the types of each column. I'm guessing there's a good way to get that information from pandas."
   ]
  },
  {
   "cell_type": "code",
   "execution_count": 16,
   "id": "a72db30f-9a00-4041-a2ea-1b6b13b29d9b",
   "metadata": {},
   "outputs": [
    {
     "data": {
      "text/plain": [
       "datedim                      object\n",
       "id                            int64\n",
       "id_parent                     int64\n",
       "id_path                      object\n",
       "tree_depth                    int64\n",
       "tree                         object\n",
       "part_number                  object\n",
       "serial_number                object\n",
       "location_name                object\n",
       "original_ip_owner            object\n",
       "current_ip_owner             object\n",
       "operational_nomenclature     object\n",
       "russian_name                 object\n",
       "english_name                 object\n",
       "barcode                      object\n",
       "quantity                      int64\n",
       "width                       float64\n",
       "height                      float64\n",
       "length                      float64\n",
       "diameter                    float64\n",
       "calculated_volume           float64\n",
       "stwg_ovrrd_vol              float64\n",
       "children_volume             float64\n",
       "stwg_ovrrd_chldrn_vol       float64\n",
       "ovrrd_notes                 float64\n",
       "volume_notes                 object\n",
       "expire_date                  object\n",
       "launch                       object\n",
       "type                         object\n",
       "hazard                       object\n",
       "state                        object\n",
       "status                       object\n",
       "is_container                  int64\n",
       "is_moveable                   int64\n",
       "system                       object\n",
       "subsystem                    object\n",
       "action_date                  object\n",
       "move_date                    object\n",
       "fill_status                  object\n",
       "categoryID                    int64\n",
       "category_name                object\n",
       "dtype: object"
      ]
     },
     "execution_count": 16,
     "metadata": {},
     "output_type": "execute_result"
    }
   ],
   "source": [
    "df.dtypes"
   ]
  },
  {
   "cell_type": "markdown",
   "id": "bb127609-31b9-4619-af08-c7bbb2255ab7",
   "metadata": {},
   "source": [
    "Welp, that was simple enough. Now let's try to convert from Pandas `dtype` to regular Python types"
   ]
  },
  {
   "cell_type": "code",
   "execution_count": 20,
   "id": "b9dd91f0-ff39-4fc3-b798-d767c12674bc",
   "metadata": {
    "editable": true,
    "slideshow": {
     "slide_type": ""
    },
    "tags": []
   },
   "outputs": [],
   "source": [
    "dfn = df.convert_dtypes()\n",
    "dfn.dtypes\n",
    "type_list = dfn.dtypes.to_list()"
   ]
  },
  {
   "cell_type": "code",
   "execution_count": 21,
   "id": "85d36f03-5bd5-449b-837f-e57bdbf14841",
   "metadata": {},
   "outputs": [
    {
     "data": {
      "text/plain": [
       "[string[python],\n",
       " Int64Dtype(),\n",
       " Int64Dtype(),\n",
       " string[python],\n",
       " Int64Dtype(),\n",
       " string[python],\n",
       " string[python],\n",
       " string[python],\n",
       " string[python],\n",
       " string[python],\n",
       " string[python],\n",
       " string[python],\n",
       " string[python],\n",
       " string[python],\n",
       " string[python],\n",
       " Int64Dtype(),\n",
       " Float64Dtype(),\n",
       " Float64Dtype(),\n",
       " Float64Dtype(),\n",
       " Float64Dtype(),\n",
       " Float64Dtype(),\n",
       " Int64Dtype(),\n",
       " Float64Dtype(),\n",
       " Int64Dtype(),\n",
       " Int64Dtype(),\n",
       " string[python],\n",
       " string[python],\n",
       " string[python],\n",
       " string[python],\n",
       " string[python],\n",
       " string[python],\n",
       " string[python],\n",
       " Int64Dtype(),\n",
       " Int64Dtype(),\n",
       " string[python],\n",
       " string[python],\n",
       " string[python],\n",
       " string[python],\n",
       " string[python],\n",
       " Int64Dtype(),\n",
       " string[python]]"
      ]
     },
     "execution_count": 21,
     "metadata": {},
     "output_type": "execute_result"
    }
   ],
   "source": [
    "type_list"
   ]
  },
  {
   "cell_type": "code",
   "execution_count": 22,
   "id": "688d992f-7d73-4976-93cd-2ddb9eaa2151",
   "metadata": {},
   "outputs": [
    {
     "name": "stdout",
     "output_type": "stream",
     "text": [
      "<class 'pandas.core.arrays.string_.StringDtype'>\n",
      "<class 'pandas.core.arrays.integer.Int64Dtype'>\n",
      "<class 'pandas.core.arrays.integer.Int64Dtype'>\n",
      "<class 'pandas.core.arrays.string_.StringDtype'>\n",
      "<class 'pandas.core.arrays.integer.Int64Dtype'>\n",
      "<class 'pandas.core.arrays.string_.StringDtype'>\n",
      "<class 'pandas.core.arrays.string_.StringDtype'>\n",
      "<class 'pandas.core.arrays.string_.StringDtype'>\n",
      "<class 'pandas.core.arrays.string_.StringDtype'>\n",
      "<class 'pandas.core.arrays.string_.StringDtype'>\n",
      "<class 'pandas.core.arrays.string_.StringDtype'>\n",
      "<class 'pandas.core.arrays.string_.StringDtype'>\n",
      "<class 'pandas.core.arrays.string_.StringDtype'>\n",
      "<class 'pandas.core.arrays.string_.StringDtype'>\n",
      "<class 'pandas.core.arrays.string_.StringDtype'>\n",
      "<class 'pandas.core.arrays.integer.Int64Dtype'>\n",
      "<class 'pandas.core.arrays.floating.Float64Dtype'>\n",
      "<class 'pandas.core.arrays.floating.Float64Dtype'>\n",
      "<class 'pandas.core.arrays.floating.Float64Dtype'>\n",
      "<class 'pandas.core.arrays.floating.Float64Dtype'>\n",
      "<class 'pandas.core.arrays.floating.Float64Dtype'>\n",
      "<class 'pandas.core.arrays.integer.Int64Dtype'>\n",
      "<class 'pandas.core.arrays.floating.Float64Dtype'>\n",
      "<class 'pandas.core.arrays.integer.Int64Dtype'>\n",
      "<class 'pandas.core.arrays.integer.Int64Dtype'>\n",
      "<class 'pandas.core.arrays.string_.StringDtype'>\n",
      "<class 'pandas.core.arrays.string_.StringDtype'>\n",
      "<class 'pandas.core.arrays.string_.StringDtype'>\n",
      "<class 'pandas.core.arrays.string_.StringDtype'>\n",
      "<class 'pandas.core.arrays.string_.StringDtype'>\n",
      "<class 'pandas.core.arrays.string_.StringDtype'>\n",
      "<class 'pandas.core.arrays.string_.StringDtype'>\n",
      "<class 'pandas.core.arrays.integer.Int64Dtype'>\n",
      "<class 'pandas.core.arrays.integer.Int64Dtype'>\n",
      "<class 'pandas.core.arrays.string_.StringDtype'>\n",
      "<class 'pandas.core.arrays.string_.StringDtype'>\n",
      "<class 'pandas.core.arrays.string_.StringDtype'>\n",
      "<class 'pandas.core.arrays.string_.StringDtype'>\n",
      "<class 'pandas.core.arrays.string_.StringDtype'>\n",
      "<class 'pandas.core.arrays.integer.Int64Dtype'>\n",
      "<class 'pandas.core.arrays.string_.StringDtype'>\n"
     ]
    }
   ],
   "source": [
    "for entry in type_list:\n",
    "    print(type(entry))"
   ]
  },
  {
   "cell_type": "code",
   "execution_count": 34,
   "id": "54a6941b-3674-4224-804f-cf03f36024fa",
   "metadata": {},
   "outputs": [],
   "source": [
    "python_type_strings = []\n",
    "db_type_strings = []\n",
    "for entry in type_list:\n",
    "    if isinstance(entry, StringDtype):\n",
    "        python_type_strings.append('string')\n",
    "        db_type_strings.append('text')\n",
    "    if isinstance(entry, Int64Dtype):\n",
    "        python_type_strings.append('int')\n",
    "        db_type_strings.append('int')\n",
    "    if isinstance(entry, Float64Dtype):\n",
    "        python_type_strings.append('float')\n",
    "        db_type_strings.append('float')"
   ]
  },
  {
   "cell_type": "code",
   "execution_count": 35,
   "id": "a1557151-2dcc-4999-94f3-f27cd05cbf62",
   "metadata": {},
   "outputs": [
    {
     "data": {
      "text/plain": [
       "['string',\n",
       " 'int',\n",
       " 'int',\n",
       " 'string',\n",
       " 'int',\n",
       " 'string',\n",
       " 'string',\n",
       " 'string',\n",
       " 'string',\n",
       " 'string',\n",
       " 'string',\n",
       " 'string',\n",
       " 'string',\n",
       " 'string',\n",
       " 'string',\n",
       " 'int',\n",
       " 'float',\n",
       " 'float',\n",
       " 'float',\n",
       " 'float',\n",
       " 'float',\n",
       " 'int',\n",
       " 'float',\n",
       " 'int',\n",
       " 'int',\n",
       " 'string',\n",
       " 'string',\n",
       " 'string',\n",
       " 'string',\n",
       " 'string',\n",
       " 'string',\n",
       " 'string',\n",
       " 'int',\n",
       " 'int',\n",
       " 'string',\n",
       " 'string',\n",
       " 'string',\n",
       " 'string',\n",
       " 'string',\n",
       " 'int',\n",
       " 'string']"
      ]
     },
     "execution_count": 35,
     "metadata": {},
     "output_type": "execute_result"
    }
   ],
   "source": [
    "python_type_strings"
   ]
  },
  {
   "cell_type": "code",
   "execution_count": 36,
   "id": "70c1be02-6d23-49aa-9662-d3a5cc583b4e",
   "metadata": {},
   "outputs": [
    {
     "data": {
      "text/plain": [
       "['text',\n",
       " 'int',\n",
       " 'int',\n",
       " 'text',\n",
       " 'int',\n",
       " 'text',\n",
       " 'text',\n",
       " 'text',\n",
       " 'text',\n",
       " 'text',\n",
       " 'text',\n",
       " 'text',\n",
       " 'text',\n",
       " 'text',\n",
       " 'text',\n",
       " 'int',\n",
       " 'float',\n",
       " 'float',\n",
       " 'float',\n",
       " 'float',\n",
       " 'float',\n",
       " 'int',\n",
       " 'float',\n",
       " 'int',\n",
       " 'int',\n",
       " 'text',\n",
       " 'text',\n",
       " 'text',\n",
       " 'text',\n",
       " 'text',\n",
       " 'text',\n",
       " 'text',\n",
       " 'int',\n",
       " 'int',\n",
       " 'text',\n",
       " 'text',\n",
       " 'text',\n",
       " 'text',\n",
       " 'text',\n",
       " 'int',\n",
       " 'text']"
      ]
     },
     "execution_count": 36,
     "metadata": {},
     "output_type": "execute_result"
    }
   ],
   "source": [
    "db_type_strings"
   ]
  },
  {
   "cell_type": "code",
   "execution_count": null,
   "id": "c15115b5-97aa-4f2d-95cf-1af160f42d0b",
   "metadata": {},
   "outputs": [],
   "source": []
  }
 ],
 "metadata": {
  "kernelspec": {
   "display_name": "Python 3 (ipykernel)",
   "language": "python",
   "name": "python3"
  },
  "language_info": {
   "codemirror_mode": {
    "name": "ipython",
    "version": 3
   },
   "file_extension": ".py",
   "mimetype": "text/x-python",
   "name": "python",
   "nbconvert_exporter": "python",
   "pygments_lexer": "ipython3",
   "version": "3.11.6"
  }
 },
 "nbformat": 4,
 "nbformat_minor": 5
}
